{
 "cells": [
  {
   "cell_type": "code",
   "execution_count": 9,
   "id": "4a6e6d51",
   "metadata": {},
   "outputs": [],
   "source": [
    "import pandas as pd\n",
    "import numpy as np\n",
    "import matplotlib.pyplot as plt\n",
    "import random\n",
    "import copy"
   ]
  },
  {
   "cell_type": "markdown",
   "id": "ea262516",
   "metadata": {},
   "source": [
    "# Initial Setup"
   ]
  },
  {
   "cell_type": "code",
   "execution_count": 10,
   "id": "b817f8c3",
   "metadata": {},
   "outputs": [],
   "source": [
    "# Load data\n",
    "df = pd.read_csv('titik_semprotan.csv')\n",
    "ids = df['id'].tolist()\n",
    "locations = df[['x', 'y']].values"
   ]
  },
  {
   "cell_type": "code",
   "execution_count": 11,
   "id": "158e1a87",
   "metadata": {},
   "outputs": [],
   "source": [
    "# Caching jarak antar titik\n",
    "distance_cache = {}\n",
    "\n",
    "id2idx = {i: idx for idx, i in enumerate(ids)}\n",
    "\n",
    "def get_weight(i, j):\n",
    "    key = (i, j)\n",
    "    if key in distance_cache:\n",
    "        return distance_cache[key]\n",
    "    # ambil index sekali, bukan ids.index(i) yang O(n)\n",
    "    ii, jj = id2idx[i], id2idx[j]\n",
    "    # euclidean\n",
    "    dx = locations[ii][0] - locations[jj][0]\n",
    "    dy = locations[ii][1] - locations[jj][1]\n",
    "    d = float(np.hypot(dx, dy))\n",
    "    distance_cache[(i, j)] = d\n",
    "    distance_cache[(j, i)] = d\n",
    "    return d"
   ]
  },
  {
   "cell_type": "code",
   "execution_count": 12,
   "id": "763ca84f",
   "metadata": {},
   "outputs": [
    {
     "name": "stdout",
     "output_type": "stream",
     "text": [
      "Contoh rute: [1, 2, 3, 4, 5, 6, 7, 8, 9, 10, 11, 12, 13, 14, 15, 16, 17, 18, 19, 20, 21, 22, 23, 24, 25, 26, 27, 28, 29, 30, 31, 32, 33, 34, 35, 36, 37, 38, 39, 40, 41, 42, 43, 44, 45, 46, 47, 48, 49, 50, 51, 52, 53, 54, 55, 56, 57, 58, 59, 60, 61, 62, 63, 64, 65, 66, 67, 68, 69, 70, 71, 72, 73, 74, 75, 76, 77, 78, 79, 80, 81, 82, 83, 84, 85, 86, 87, 88, 89, 90, 91, 92, 93, 94, 95, 96, 97, 98, 99, 100, 101, 102, 103, 104, 105, 106, 107, 108, 109, 110, 111, 112, 113, 114, 115, 116, 117, 118, 119, 120, 121, 122, 123, 124, 125, 126, 127, 128, 129, 130, 131, 132, 133, 134, 135, 136, 137, 138, 139, 140, 141, 142, 143]\n",
      "Total jarak: 20412.639288624807\n"
     ]
    }
   ],
   "source": [
    "def total_distance(tour):\n",
    "    distance = 0\n",
    "    for i in range(len(tour) - 1):\n",
    "        distance += get_weight(tour[i], tour[i + 1])\n",
    "    distance += get_weight(tour[-1], tour[0])  # kembali ke kota awal\n",
    "    return distance\n",
    "\n",
    "# Contoh penggunaan\n",
    "example = ids[:]\n",
    "print(\"Contoh rute:\", example)\n",
    "print(\"Total jarak:\", total_distance(example))"
   ]
  },
  {
   "cell_type": "code",
   "execution_count": 13,
   "id": "9285c886",
   "metadata": {},
   "outputs": [],
   "source": [
    "def split_ids(ids, num_vehicles):\n",
    "    ids_copy = ids[:]\n",
    "    random.shuffle(ids_copy)\n",
    "    return [ids_copy[i::num_vehicles] for i in range(num_vehicles)]"
   ]
  },
  {
   "cell_type": "code",
   "execution_count": 14,
   "id": "e49740fd",
   "metadata": {},
   "outputs": [],
   "source": [
    "def total_distance_multi(routes):\n",
    "    return sum(total_distance(route) for route in routes if len(route) > 1)"
   ]
  },
  {
   "cell_type": "markdown",
   "id": "9010e1ce",
   "metadata": {},
   "source": [
    "# Clustering"
   ]
  },
  {
   "cell_type": "code",
   "execution_count": 15,
   "id": "8246aaf2",
   "metadata": {},
   "outputs": [
    {
     "name": "stdout",
     "output_type": "stream",
     "text": [
      "Label kluster untuk tiap titik: [0 1 0 1 1 2 1 2 2 0 0 0 1 0 2 0 1 0 1 2 0 1 0 1 1 0 2 2 1 0 1 1 0 1 1 1 0\n",
      " 2 2 0 1 2 0 1 1 0 0 2 0 0 0 0 1 2 1 1 1 1 0 0 2 1 0 0 2 0 1 2 1 1 1 1 0 1\n",
      " 0 0 1 0 1 0 0 1 1 1 1 1 1 0 1 0 1 1 1 0 2 1 0 0 1 0 0 0 1 1 2 2 0 2 1 2 2\n",
      " 0 1 1 0 1 1 0 1 0 0 1 2 0 2 1 1 2 0 0 0 0 1 1 1 1 0 0 2 2 0 1 0]\n"
     ]
    },
    {
     "data": {
      "image/png": "[encoded data removed]",
      "text/plain": [
       "<Figure size 600x600 with 1 Axes>"
      ]
     },
     "metadata": {},
     "output_type": "display_data"
    }
   ],
   "source": [
    "import numpy as np\n",
    "import matplotlib.pyplot as plt\n",
    "\n",
    "def kmeans(points, k, max_iter=100, seed=42):\n",
    "    rng = np.random.default_rng(seed)\n",
    "    centroids = points[rng.choice(len(points), size=k, replace=False)].astype(float)\n",
    "\n",
    "    for _ in range(max_iter):\n",
    "        # assign ke centroid terdekat\n",
    "        dists = np.linalg.norm(points[:, None, :] - centroids[None, :, :], axis=2)\n",
    "        labels = dists.argmin(axis=1)\n",
    "\n",
    "        # update centroid\n",
    "        new_centroids = []\n",
    "        for j in range(k):\n",
    "            cluster_pts = points[labels == j]\n",
    "            if len(cluster_pts) > 0:\n",
    "                new_centroids.append(cluster_pts.mean(axis=0))\n",
    "            else:\n",
    "                new_centroids.append(points[rng.integers(0, len(points))])\n",
    "        new_centroids = np.array(new_centroids)\n",
    "\n",
    "        if np.allclose(new_centroids, centroids):\n",
    "            break\n",
    "        centroids = new_centroids\n",
    "\n",
    "    return labels  # hanya label klaster\n",
    "\n",
    "# --- contoh penggunaan ---\n",
    "# locations = df[['x','y']].values\n",
    "k = 3  # jumlah klaster\n",
    "labels = kmeans(locations, k)\n",
    "\n",
    "# hasil kluster: tiap titik punya label (0,1,2,...)\n",
    "print(\"Label kluster untuk tiap titik:\", labels)\n",
    "\n",
    "# --- opsional: plot hasil kluster ---\n",
    "plt.figure(figsize=(6,6))\n",
    "for cluster_id in range(k):\n",
    "    pts = locations[labels == cluster_id]\n",
    "    plt.scatter(pts[:,0], pts[:,1], label=f\"Cluster {cluster_id+1}\")\n",
    "plt.legend()\n",
    "plt.title(\"Klusterisasi K-Means\")\n",
    "plt.show()"
   ]
  },
  {
   "cell_type": "markdown",
   "id": "af06ed4c",
   "metadata": {},
   "source": [
    "# ORTOOLS for Benchmarking"
   ]
  },
  {
   "cell_type": "code",
   "execution_count": null,
   "id": "5e3386c4",
   "metadata": {},
   "outputs": [],
   "source": [
    "from ortools.constraint_solver import routing_enums_pb2\n",
    "from ortools.constraint_solver import pywrapcp\n",
    "\n",
    "def create_data_model(num_vehicles=1):\n",
    "    matrix = [[get_weight(i, j) for j in ids] for i in ids]\n",
    "    return {\n",
    "        'distance_matrix': matrix,\n",
    "        'num_vehicles': num_vehicles,\n",
    "        'depot': 0,  # titik awal (bisa diganti)\n",
    "    }\n",
    "\n",
    "def solve_vrp(num_vehicles=1):\n",
    "    data = create_data_model(num_vehicles)\n",
    "    manager = pywrapcp.RoutingIndexManager(\n",
    "        len(data['distance_matrix']),\n",
    "        data['num_vehicles'],\n",
    "        data['depot']\n",
    "    )\n",
    "    routing = pywrapcp.RoutingModel(manager)\n",
    "\n",
    "    def distance_callback(from_index, to_index):\n",
    "        from_node = manager.IndexToNode(from_index)\n",
    "        to_node = manager.IndexToNode(to_index)\n",
    "        return int(data['distance_matrix'][from_node][to_node])\n",
    "\n",
    "    transit_callback_index = routing.RegisterTransitCallback(distance_callback)\n",
    "    routing.SetArcCostEvaluatorOfAllVehicles(transit_callback_index)\n",
    "\n",
    "    search_parameters = pywrapcp.DefaultRoutingSearchParameters()\n",
    "    search_parameters.first_solution_strategy = (\n",
    "        routing_enums_pb2.FirstSolutionStrategy.PATH_CHEAPEST_ARC)\n",
    "    search_parameters.local_search_metaheuristic = (\n",
    "        routing_enums_pb2.LocalSearchMetaheuristic.GUIDED_LOCAL_SEARCH)\n",
    "    search_parameters.time_limit.seconds = 16\n",
    "\n",
    "    solution = routing.SolveWithParameters(search_parameters)\n",
    "\n",
    "    if solution:\n",
    "        routes = []\n",
    "        for vehicle_id in range(data['num_vehicles']):\n",
    "            index = routing.Start(vehicle_id)\n",
    "            route = []\n",
    "            while not routing.IsEnd(index):\n",
    "                route.append(ids[manager.IndexToNode(index)])\n",
    "                index = solution.Value(routing.NextVar(index))\n",
    "            route.append(ids[manager.IndexToNode(index)])  # kembali ke depot\n",
    "            routes.append(route)\n",
    "        cost = solution.ObjectiveValue()\n",
    "        return routes, cost\n",
    "    else:\n",
    "        print(\"No solution found!\")\n",
    "        return None, float('inf')\n",
    "\n",
    "# Contoh pemakaian:\n",
    "routes, cost = solve_vrp(num_vehicles=1)\n",
    "print(\"Total cost:\", cost)\n",
    "for i, route in enumerate(routes):\n",
    "    print(f\"Rute kendaraan {i+1}:\", route)"
   ]
  },
  {
   "cell_type": "markdown",
   "id": "0cbcd6bb",
   "metadata": {},
   "source": [
    "Record for ORTOOLS: 1939m for 16s"
   ]
  },
  {
   "cell_type": "markdown",
   "id": "cef2aae1",
   "metadata": {},
   "source": [
    "# Lovebird Initial Algorithm"
   ]
  },
  {
   "cell_type": "code",
   "execution_count": null,
   "id": "1a402e16",
   "metadata": {},
   "outputs": [],
   "source": [
    "def swap_two(tour, i, j): # red\n",
    "    new = tour[:]\n",
    "    if j - i < 4:\n",
    "        return interchange(new, i, j)\n",
    "\n",
    "    mid = new[i:j+1]\n",
    "    k = len(mid) // 2\n",
    "    seg1 = mid[:k]\n",
    "    seg2 = mid[k:]\n",
    "    new[i:i+k] = seg2\n",
    "    new[i+k:j+1] = seg1\n",
    "    return new\n",
    "\n",
    "def flip(tour, i, j): # peach\n",
    "    new = tour[:]\n",
    "    new[i:j+1] = reversed(new[i:j+1])\n",
    "    return new\n",
    "\n",
    "def interchange(tour, i, j): # green\n",
    "    new = tour[:]\n",
    "    new[i], new[j] = new[j], new[i]\n",
    "    return new\n",
    "\n",
    "def slide(tour, i, j): # yellow\n",
    "    new = tour[:]\n",
    "    city = new.pop(i)\n",
    "    new.insert(j, city)\n",
    "    return new\n",
    "\n",
    "def guided_swap(tour, i, j): # blue\n",
    "    new = flip(tour, i, j)\n",
    "    return interchange(new, i, j)\n",
    "\n",
    "def scramble(tour): # gray\n",
    "    new = tour[:]\n",
    "    random.shuffle(new)\n",
    "    return new"
   ]
  },
  {
   "cell_type": "code",
   "execution_count": null,
   "id": "71ea56c7",
   "metadata": {},
   "outputs": [],
   "source": [
    "# Fungsi untuk RouletteWheel (untuk pemilihan titik secara probabilistik)\n",
    "def roulette_wheel(population, fitness):\n",
    "    total_fitness = sum(fitness)\n",
    "    selection = random.uniform(0, total_fitness)\n",
    "    current_sum = 0\n",
    "    for i, individual in enumerate(population):\n",
    "        current_sum += fitness[i]\n",
    "        if current_sum >= selection:\n",
    "            return individual\n",
    "    return population[-1]  # fallback jika tidak ada yang terpilih"
   ]
  },
  {
   "cell_type": "code",
   "execution_count": null,
   "id": "d07834d3",
   "metadata": {},
   "outputs": [],
   "source": [
    "# def lovebird_algorithm(maxGeneration, popSize, num_vehicles=1):\n",
    "#     def split_ids(ids, num_vehicles):\n",
    "#         ids_copy = ids[:]\n",
    "#         random.shuffle(ids_copy)\n",
    "#         return [ids_copy[i::num_vehicles] for i in range(num_vehicles)]\n",
    "\n",
    "#     def total_distance_multi(routes):\n",
    "#         return sum(total_distance(route) for route in routes if len(route) > 1)\n",
    "\n",
    "#     population = [split_ids(ids, num_vehicles) for _ in range(popSize)]\n",
    "#     best_solution = min(population, key=total_distance_multi)\n",
    "#     best_fitness = total_distance_multi(best_solution)\n",
    "#     history = [best_fitness]\n",
    "\n",
    "#     for g in range(maxGeneration):\n",
    "#         new_population = []\n",
    "#         for i in range(popSize):\n",
    "#             fitness = [1/total_distance_multi(ind) for ind in population]\n",
    "#             individual = roulette_wheel(population, fitness)\n",
    "#             T = copy.deepcopy(individual)\n",
    "\n",
    "#             for v in range(num_vehicles):\n",
    "#                 route = T[v]\n",
    "#                 if len(route) > 1:\n",
    "#                     rand = random.random()\n",
    "#                     if rand < 0.9:\n",
    "#                         i_idx, j_idx = sorted(random.sample(range(len(route)), 2))\n",
    "#                         switch_case = random.choice([1, 2, 3, 4, 5])\n",
    "#                         if switch_case == 1:\n",
    "#                             route = swap_two(route, i_idx, j_idx)\n",
    "#                         elif switch_case == 2:\n",
    "#                             route = flip(route, i_idx, j_idx)\n",
    "#                         elif switch_case == 3:\n",
    "#                             route = interchange(route, i_idx, j_idx)\n",
    "#                         elif switch_case == 4:\n",
    "#                             route = slide(route, i_idx, j_idx)\n",
    "#                         elif switch_case == 5:\n",
    "#                             route = guided_swap(route, i_idx, j_idx)\n",
    "#                     else:\n",
    "#                         route = scramble(route)\n",
    "#                 T[v] = route\n",
    "#             new_population.append(T)\n",
    "\n",
    "#         # Local search stacking: Swap sampai mentok, lalu Flip sampai mentok\n",
    "#         improved = True\n",
    "#         ls_sol = copy.deepcopy(best_solution)\n",
    "#         while improved:\n",
    "#             improved = False\n",
    "#             # SWAP sampai tidak ada perbaikan\n",
    "#             swap_found = True\n",
    "#             while swap_found:\n",
    "#                 swap_found = False\n",
    "#                 for v in range(num_vehicles):\n",
    "#                     route = ls_sol[v]\n",
    "#                     if len(route) > 1:\n",
    "#                         for i in range(len(route) - 1):\n",
    "#                             for j in range(i + 1, len(route)):\n",
    "#                                 candidate = swap_two(route, i, j)\n",
    "#                                 temp_sol = ls_sol[:]\n",
    "#                                 temp_sol[v] = candidate\n",
    "#                                 if total_distance_multi(temp_sol) < total_distance_multi(ls_sol):\n",
    "#                                     ls_sol[v] = candidate\n",
    "#                                     swap_found = True\n",
    "#                                     improved = True\n",
    "#                                     break\n",
    "#                             if swap_found:\n",
    "#                                 break\n",
    "#                     if swap_found:\n",
    "#                         break\n",
    "#             # FLIP sampai tidak ada perbaikan\n",
    "#             flip_found = True\n",
    "#             while flip_found:\n",
    "#                 flip_found = False\n",
    "#                 for v in range(num_vehicles):\n",
    "#                     route = ls_sol[v]\n",
    "#                     if len(route) > 1:\n",
    "#                         for i in range(len(route) - 1):\n",
    "#                             for j in range(i + 1, len(route)):\n",
    "#                                 candidate = flip(route, i, j)\n",
    "#                                 temp_sol = ls_sol[:]\n",
    "#                                 temp_sol[v] = candidate\n",
    "#                                 if total_distance_multi(temp_sol) < total_distance_multi(ls_sol):\n",
    "#                                     ls_sol[v] = candidate\n",
    "#                                     flip_found = True\n",
    "#                                     improved = True\n",
    "#                                     break\n",
    "#                             if flip_found:\n",
    "#                                 break\n",
    "#                     if flip_found:\n",
    "#                         break\n",
    "\n",
    "#         # Update best_solution jika local search lebih baik\n",
    "#         if total_distance_multi(ls_sol) < best_fitness:\n",
    "#             best_solution = ls_sol\n",
    "#             best_fitness = total_distance_multi(ls_sol)\n",
    "\n",
    "#         # Evaluasi solusi baru\n",
    "#         fitness = [1/total_distance_multi(individual) for individual in new_population]\n",
    "#         best_fitness_in_generation = min([total_distance_multi(ind) for ind in new_population])\n",
    "#         best_solution_in_generation = new_population[[total_distance_multi(ind) for ind in new_population].index(best_fitness_in_generation)]\n",
    "\n",
    "#         if best_fitness_in_generation < best_fitness:\n",
    "#             best_fitness = best_fitness_in_generation\n",
    "#             best_solution = best_solution_in_generation\n",
    "\n",
    "#         population = new_population\n",
    "#         history.append(best_fitness)\n",
    "\n",
    "#     return best_solution, best_fitness, history"
   ]
  },
  {
   "cell_type": "code",
   "execution_count": null,
   "id": "2e856b55",
   "metadata": {},
   "outputs": [],
   "source": [
    "# # Contoh penggunaan lovebird_algorithm\n",
    "# best_routes, best_cost, history = lovebird_algorithm(maxGeneration=50, popSize=30, num_vehicles=1)\n",
    "# print(\"Total cost:\", best_cost)\n",
    "# for i, route in enumerate(best_routes):\n",
    "#     print(f\"Rute kendaraan {i+1}:\", route)"
   ]
  },
  {
   "cell_type": "code",
   "execution_count": null,
   "id": "01f5e932",
   "metadata": {},
   "outputs": [],
   "source": [
    "# # Plot history\n",
    "# plt.figure(figsize=(8,4))\n",
    "# plt.plot(history, marker='o')\n",
    "# plt.title(\"Perkembangan Fitness Lovebird Algorithm\")\n",
    "# plt.xlabel(\"Generasi\")\n",
    "# plt.ylabel(\"Total Distance\")\n",
    "# plt.grid(True)\n",
    "# plt.show()"
   ]
  },
  {
   "cell_type": "markdown",
   "id": "c9f3bce7",
   "metadata": {},
   "source": [
    "# Local Lovebird Algorithm"
   ]
  },
  {
   "cell_type": "code",
   "execution_count": null,
   "id": "7aa8f2e3",
   "metadata": {},
   "outputs": [],
   "source": [
    "def lovebird_local_search(maxLoop, num_vehicles=1, initial_solution=None):\n",
    "    current_solution = initial_solution if initial_solution else split_ids(ids, num_vehicles)\n",
    "    current_fitness = 1 / total_distance_multi(current_solution)\n",
    "    best_solution = current_solution\n",
    "    best_fitness = current_fitness\n",
    "    history = [1 / current_fitness]\n",
    "    \n",
    "    # no_improvement_count = 0  # Menghitung stagnasi\n",
    "    \n",
    "    for loop in range(maxLoop):\n",
    "        new_solution = copy.deepcopy(current_solution)\n",
    "        \n",
    "        # Mutasi pada setiap rute kendaraan\n",
    "        for v in range(num_vehicles):\n",
    "            route = new_solution[v]\n",
    "            if len(route) > 1:\n",
    "                switch_case = random.choice([1, 2, 3, 4, 5])\n",
    "                if switch_case == 1:\n",
    "                    new_solution[v] = swap_two(route, random.randint(0, len(route)-1), random.randint(0, len(route)-1))\n",
    "                elif switch_case == 2:\n",
    "                    new_solution[v] = flip(route, random.randint(0, len(route)-1), random.randint(0, len(route)-1))\n",
    "                elif switch_case == 3:\n",
    "                    new_solution[v] = interchange(route, random.randint(0, len(route)-1), random.randint(0, len(route)-1))\n",
    "                elif switch_case == 4:\n",
    "                    new_solution[v] = slide(route, random.randint(0, len(route)-1), random.randint(0, len(route)-1))\n",
    "                elif switch_case == 5:\n",
    "                    new_solution[v] = guided_swap(route, random.randint(0, len(route)-1), random.randint(0, len(route)-1))\n",
    "\n",
    "        new_fitness = 1 / total_distance_multi(new_solution)\n",
    "\n",
    "        # Jika solusi baru lebih baik, terima solusi baru\n",
    "        if new_fitness > best_fitness:\n",
    "            best_solution = new_solution\n",
    "            best_fitness = new_fitness\n",
    "            current_solution = new_solution\n",
    "            # no_improvement_count = 0  # Reset stagnasi \n",
    "        # else:\n",
    "        #     no_improvement_count += 1\n",
    "        \n",
    "        history.append(1 / best_fitness)\n",
    "\n",
    "        # # Early stopping jika stagnasi terlalu lama\n",
    "        # if no_improvement_count > 10000:  # Misalnya, 1000 iterasi tanpa perbaikan\n",
    "        #     break\n",
    "\n",
    "    return best_solution, 1 / best_fitness, history"
   ]
  },
  {
   "cell_type": "code",
   "execution_count": null,
   "id": "bb69af47",
   "metadata": {},
   "outputs": [
    {
     "name": "stdout",
     "output_type": "stream",
     "text": [
      "Total cost: 2167.0880049647567\n",
      "Rute kendaraan 1: [30, 80, 130, 14, 63, 40, 97, 11, 66, 94, 52, 141, 16, 124, 101, 60, 131, 33, 56, 67, 135, 19, 104, 41, 96, 5, 121, 78, 107, 120, 50, 3, 88, 51, 64, 132, 12, 43, 76, 112, 26, 137, 49, 118, 75, 90, 23, 115, 47, 98, 73, 10, 102, 55, 117, 29, 122, 84, 127, 72, 85, 35, 134, 22, 77, 114, 142, 83, 13, 79, 69, 136, 109, 36, 58, 119, 70, 24, 126, 92, 32, 2, 86, 91, 44, 74, 17, 7, 62, 89, 103, 53, 133, 31, 93, 38, 9, 111, 28, 25, 71, 57, 4, 113, 82, 45, 99, 116, 87, 34, 106, 68, 125, 48, 6, 39, 108, 95, 20, 105, 128, 42, 139, 27, 61, 123, 65, 8, 140, 54, 110, 15, 81, 18, 59, 37, 100, 46, 138, 1, 143, 21, 129]\n"
     ]
    }
   ],
   "source": [
    "# Contoh penggunaan lovebird_local_search\n",
    "best_routes, best_cost, history = lovebird_local_search(maxLoop=200000, num_vehicles=1)\n",
    "print(\"Total cost:\", best_cost)\n",
    "for i, route in enumerate(best_routes):\n",
    "    print(f\"Rute kendaraan {i+1}:\", route)"
   ]
  },
  {
   "cell_type": "code",
   "execution_count": null,
   "id": "0fd3cc27",
   "metadata": {},
   "outputs": [
    {
     "data": {
      "image/png": "[encoded data removed]",
      "text/plain": [
       "<Figure size 800x400 with 1 Axes>"
      ]
     },
     "metadata": {},
     "output_type": "display_data"
    }
   ],
   "source": [
    "# Plot history\n",
    "plt.figure(figsize=(8,4))\n",
    "plt.plot(history, marker='o')\n",
    "plt.title(\"Perkembangan Fitness Lovebird Local Search\")\n",
    "plt.xlabel(\"Iterasi\")\n",
    "plt.ylabel(\"Total Distance\")\n",
    "plt.grid(True)\n",
    "plt.show()"
   ]
  },
  {
   "cell_type": "markdown",
   "id": "4bea16d8",
   "metadata": {},
   "source": [
    "# Iterated Lovebird"
   ]
  },
  {
   "cell_type": "code",
   "execution_count": null,
   "id": "439cc667",
   "metadata": {},
   "outputs": [],
   "source": [
    "# Perturbasi sederhana\n",
    "def heavy_scramble(route, max_block=6):\n",
    "    if len(route) < 2:\n",
    "        return route[:]\n",
    "    new = route[:]\n",
    "    L = len(new)\n",
    "    m = min(max_block, L)\n",
    "    m = random.randint(2, m)           # panjang blok acak (>=2)\n",
    "    i = random.randint(0, L - m)\n",
    "    sub = new[i:i+m]\n",
    "    random.shuffle(sub)\n",
    "    return new[:i] + sub + new[i+m:]\n",
    "\n",
    "def or_opt_intra(route, k=2):\n",
    "    \"\"\"Relocate blok k berurutan dalam rute yang sama.\"\"\"\n",
    "    L = len(route)\n",
    "    if L < k + 1:\n",
    "        return route[:]\n",
    "    i = random.randint(0, L - k)          # ambil blok [i:i+k]\n",
    "    j = random.randint(0, L - k)          # posisi penyisipan basis\n",
    "    # pilih posisi sisip (boleh melewati blok asal, atur offset)\n",
    "    if j >= i:\n",
    "        j += k\n",
    "    new = route[:i] + route[i+k:]\n",
    "    j = min(j, len(new))                  # clamp\n",
    "    block = route[i:i+k]\n",
    "    return new[:j] + block + new[j:]\n",
    "\n",
    "def perturb_multi_simple(solution, p_intra=0.9):\n",
    "    sol = copy.deepcopy(solution)\n",
    "    if random.random() < p_intra:\n",
    "        idxs = [i for i, r in enumerate(sol) if len(r) >= 3]\n",
    "        if idxs:\n",
    "            v = random.choice(idxs)\n",
    "            p = random.random()\n",
    "            if p < 0.7 and len(sol[v]) >= 3:\n",
    "                sol[v] = or_opt_intra(sol[v], k=2)   # 70%\n",
    "            # elif p < 0.9 and len(sol[v]) >= 4:\n",
    "            #     sol[v] = or_opt_intra(sol[v], k=3)   # 20%\n",
    "            # else:\n",
    "            #     sol[v] = heavy_scramble(sol[v], max_block=6)  # 10%\n",
    "            else:\n",
    "                sol[v] = or_opt_intra(sol[v], k=3)  # 30%\n",
    "    else:\n",
    "        non_empty = [i for i, r in enumerate(sol) if len(r) > 0]\n",
    "        if len(non_empty) >= 2:\n",
    "            a, b = random.sample(non_empty, 2)\n",
    "            ia = random.randrange(len(sol[a]))\n",
    "            ib = random.randrange(len(sol[b]))\n",
    "            sol[a][ia], sol[b][ib] = sol[b][ib], sol[a][ia]\n",
    "    return sol\n",
    "\n",
    "# ILS sederhana (tanpa helper, tanpa normalisasi)\n",
    "def iterated_lovebird(max_iter=30, local_gen=200, num_vehicles=1,\n",
    "                      initial_solution=None):\n",
    "    current = initial_solution if initial_solution else split_ids(ids, num_vehicles)\n",
    "\n",
    "    # local search awal\n",
    "    best_sol, best_cost, _ = lovebird_local_search(\n",
    "        maxLoop=local_gen,\n",
    "        num_vehicles=num_vehicles,\n",
    "        initial_solution=current\n",
    "    )\n",
    "    history = [best_cost]\n",
    "\n",
    "    for _ in range(max_iter):\n",
    "        perturbed = perturb_multi_simple(best_sol)\n",
    "\n",
    "        imp_sol, imp_cost, _ = lovebird_local_search(\n",
    "            maxLoop=local_gen,\n",
    "            num_vehicles=num_vehicles,\n",
    "            initial_solution=perturbed\n",
    "        )\n",
    "\n",
    "        if imp_cost < best_cost - 1e-9:\n",
    "            best_sol, best_cost = imp_sol, imp_cost\n",
    "\n",
    "        history.append(best_cost)\n",
    "\n",
    "    return best_sol, best_cost, history"
   ]
  },
  {
   "cell_type": "code",
   "execution_count": null,
   "id": "7ce5fe21",
   "metadata": {},
   "outputs": [
    {
     "name": "stdout",
     "output_type": "stream",
     "text": [
      "Total cost: 2234.56326094296\n",
      "Rute kendaraan 1: [74, 17, 116, 99, 45, 82, 113, 4, 57, 71, 25, 28, 111, 9, 38, 93, 31, 133, 53, 103, 89, 7, 62, 22, 134, 77, 114, 35, 85, 72, 127, 79, 13, 83, 142, 24, 70, 136, 69, 96, 41, 104, 67, 56, 33, 131, 78, 121, 5, 117, 29, 84, 122, 55, 102, 10, 73, 98, 47, 107, 115, 23, 90, 75, 118, 49, 137, 26, 64, 51, 88, 3, 50, 120, 52, 124, 101, 60, 16, 141, 94, 66, 11, 97, 40, 132, 112, 76, 12, 43, 63, 14, 130, 80, 30, 129, 21, 143, 1, 138, 46, 100, 37, 59, 18, 81, 15, 110, 54, 140, 8, 65, 123, 105, 20, 108, 48, 106, 68, 125, 6, 39, 95, 128, 42, 139, 61, 27, 135, 19, 109, 36, 58, 119, 126, 92, 32, 2, 91, 86, 34, 87, 44]\n"
     ]
    }
   ],
   "source": [
    "# Contoh penggunaan lovebird_local_search\n",
    "best_routes, best_cost, history = iterated_lovebird(max_iter=50, local_gen=50000, num_vehicles=1)\n",
    "print(\"Total cost:\", best_cost)\n",
    "for i, route in enumerate(best_routes):\n",
    "    print(f\"Rute kendaraan {i+1}:\", route)"
   ]
  },
  {
   "cell_type": "code",
   "execution_count": null,
   "id": "a85c1e61",
   "metadata": {},
   "outputs": [
    {
     "data": {
      "image/png": "[encoded data removed]",
      "text/plain": [
       "<Figure size 800x400 with 1 Axes>"
      ]
     },
     "metadata": {},
     "output_type": "display_data"
    }
   ],
   "source": [
    "# Plot history\n",
    "plt.figure(figsize=(8,4))\n",
    "plt.plot(history, marker='o')\n",
    "plt.title(\"Perkembangan Fitness Lovebird Local Search\")\n",
    "plt.xlabel(\"Iterasi\")\n",
    "plt.ylabel(\"Total Distance\")\n",
    "plt.grid(True)\n",
    "plt.show()"
   ]
  },
  {
   "cell_type": "markdown",
   "id": "06600107",
   "metadata": {},
   "source": [
    "# Testing"
   ]
  },
  {
   "cell_type": "code",
   "execution_count": null,
   "id": "b1b54cf5",
   "metadata": {},
   "outputs": [
    {
     "name": "stderr",
     "output_type": "stream",
     "text": [
      "C:\\Users\\Raditya\\AppData\\Local\\Temp\\ipykernel_10192\\568442081.py:28: MatplotlibDeprecationWarning: The 'labels' parameter of boxplot() has been renamed 'tick_labels' since Matplotlib 3.9; support for the old name will be dropped in 3.11.\n",
      "  plt.boxplot([results_ls, results_ils], labels=[\"Local Search\", \"ILS\"])\n"
     ]
    },
    {
     "data": {
      "image/png": "[encoded data removed]",
      "text/plain": [
       "<Figure size 600x600 with 1 Axes>"
      ]
     },
     "metadata": {},
     "output_type": "display_data"
    }
   ],
   "source": [
    "# random.seed(42)\n",
    "# np.random.seed(42)\n",
    "\n",
    "# def experiment_boxplot(N=20):\n",
    "#     results_ls = []   # hasil dari lovebird_local_search\n",
    "#     results_ils = []  # hasil dari iterated_lovebird\n",
    "\n",
    "#     for run in range(N):\n",
    "#         # Jalankan Local Search\n",
    "#         sol_ls, cost_ls, _ = lovebird_local_search(\n",
    "#             maxLoop=300000,\n",
    "#             num_vehicles=1,\n",
    "#             initial_solution=None  # biar acak tiap run\n",
    "#         )\n",
    "#         results_ls.append(cost_ls)\n",
    "\n",
    "#         # Jalankan ILS\n",
    "#         sol_ils, cost_ils, _ = iterated_lovebird(\n",
    "#             max_iter=10,\n",
    "#             local_gen=25000,\n",
    "#             num_vehicles=1,\n",
    "#             initial_solution=None\n",
    "#         )\n",
    "#         results_ils.append(cost_ils)\n",
    "\n",
    "#     # --- Boxplot ---\n",
    "#     plt.figure(figsize=(6,6))\n",
    "#     plt.boxplot([results_ls, results_ils], labels=[\"Local Search\", \"ILS\"])\n",
    "#     plt.ylabel(\"Total Distance (lower = better)\")\n",
    "#     plt.title(f\"Perbandingan Hasil {N} Run\")\n",
    "#     plt.show()\n",
    "\n",
    "#     return results_ls, results_ils\n",
    "\n",
    "# # contoh pemanggilan\n",
    "# results_ls, results_ils = experiment_boxplot(N=20)\n"
   ]
  },
  {
   "cell_type": "code",
   "execution_count": null,
   "id": "9afe62b0",
   "metadata": {},
   "outputs": [
    {
     "name": "stdout",
     "output_type": "stream",
     "text": [
      "Rata-rata Local Search: 2215.1378717039743\n",
      "Rata-rata ILS: 2209.4695753518768\n"
     ]
    }
   ],
   "source": [
    "print(\"Rata-rata Local Search:\", sum(results_ls)/len(results_ls))\n",
    "print(\"Rata-rata ILS:\", sum(results_ils)/len(results_ils))"
   ]
  }
 ],
 "metadata": {
  "kernelspec": {
   "display_name": "Python 3",
   "language": "python",
   "name": "python3"
  },
  "language_info": {
   "codemirror_mode": {
    "name": "ipython",
    "version": 3
   },
   "file_extension": ".py",
   "mimetype": "text/x-python",
   "name": "python",
   "nbconvert_exporter": "python",
   "pygments_lexer": "ipython3",
   "version": "3.13.2"
  }
 },
 "nbformat": 4,
 "nbformat_minor": 5
}

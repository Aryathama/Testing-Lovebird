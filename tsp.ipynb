{
 "cells": [
  {
   "cell_type": "markdown",
   "id": "78ae78c6",
   "metadata": {},
   "source": [
    "Target: Minimal tour length is: \n",
    "- kroA100: 21282\n",
    "- att48: 10652\n",
    "- fri26: 937"
   ]
  },
  {
   "cell_type": "code",
   "execution_count": null,
   "id": "d0755641",
   "metadata": {},
   "outputs": [
    {
     "name": "stdout",
     "output_type": "stream",
     "text": [
      "100\n",
      "[1, 2, 3, 4, 5, 6, 7, 8, 9, 10, 11, 12, 13, 14, 15, 16, 17, 18, 19, 20, 21, 22, 23, 24, 25, 26, 27, 28, 29, 30, 31, 32, 33, 34, 35, 36, 37, 38, 39, 40, 41, 42, 43, 44, 45, 46, 47, 48, 49, 50, 51, 52, 53, 54, 55, 56, 57, 58, 59, 60, 61, 62, 63, 64, 65, 66, 67, 68, 69, 70, 71, 72, 73, 74, 75, 76, 77, 78, 79, 80, 81, 82, 83, 84, 85, 86, 87, 88, 89, 90, 91, 92, 93, 94, 95, 96, 97, 98, 99, 100]\n"
     ]
    }
   ],
   "source": [
    "import tsplib95\n",
    "\n",
    "problem = tsplib95.load('att48.tsp')\n",
    "dimension = problem.dimension\n",
    "nodes = list(problem.get_nodes())\n",
    "print(dimension)\n",
    "print(nodes)"
   ]
  },
  {
   "cell_type": "code",
   "execution_count": 64,
   "id": "8e1a4297",
   "metadata": {},
   "outputs": [],
   "source": [
    "import matplotlib.pyplot as plt\n",
    "import numpy as np\n",
    "import random\n",
    "import copy"
   ]
  },
  {
   "cell_type": "code",
   "execution_count": 65,
   "id": "3ab6ad91",
   "metadata": {},
   "outputs": [
    {
     "name": "stdout",
     "output_type": "stream",
     "text": [
      "Contoh rute: [1, 2, 3, 4, 5, 6, 7, 8, 9, 10, 11, 12, 13, 14, 15, 16, 17, 18, 19, 20, 21, 22, 23, 24, 25, 26, 27, 28, 29, 30, 31, 32, 33, 34, 35, 36, 37, 38, 39, 40, 41, 42, 43, 44, 45, 46, 47, 48, 49, 50, 51, 52, 53, 54, 55, 56, 57, 58, 59, 60, 61, 62, 63, 64, 65, 66, 67, 68, 69, 70, 71, 72, 73, 74, 75, 76, 77, 78, 79, 80, 81, 82, 83, 84, 85, 86, 87, 88, 89, 90, 91, 92, 93, 94, 95, 96, 97, 98, 99, 100]\n",
      "Total jarak: 191387\n"
     ]
    }
   ],
   "source": [
    "def total_distance(tour):\n",
    "    distance = 0\n",
    "    for i in range(len(tour) - 1):\n",
    "        distance += problem.get_weight(tour[i], tour[i + 1])\n",
    "    distance += problem.get_weight(tour[-1], tour[0])  # kembali ke kota awal\n",
    "    return distance\n",
    "\n",
    "# Contoh penggunaan\n",
    "example = list(problem.get_nodes())\n",
    "print(\"Contoh rute:\", example)\n",
    "print(\"Total jarak:\", total_distance(example))"
   ]
  },
  {
   "cell_type": "code",
   "execution_count": 66,
   "id": "1ecefbc6",
   "metadata": {},
   "outputs": [],
   "source": [
    "def swap_two(tour, i, j): # red\n",
    "    new = tour[:]\n",
    "    if j - i < 4:\n",
    "        return interchange(new, i, j)\n",
    "\n",
    "    mid = new[i:j+1]\n",
    "    k = len(mid) // 2\n",
    "    seg1 = mid[:k]\n",
    "    seg2 = mid[k:]\n",
    "    new[i:i+k] = seg2\n",
    "    new[i+k:j+1] = seg1\n",
    "    return new\n",
    "\n",
    "def flip(tour, i, j): # peach\n",
    "    new = tour[:]\n",
    "    new[i:j+1] = reversed(new[i:j+1])\n",
    "    return new\n",
    "\n",
    "def interchange(tour, i, j): # green\n",
    "    new = tour[:]\n",
    "    new[i], new[j] = new[j], new[i]\n",
    "    return new\n",
    "\n",
    "def slide(tour, i, j): # yellow\n",
    "    new = tour[:]\n",
    "    city = new.pop(i)\n",
    "    new.insert(j, city)\n",
    "    return new\n",
    "\n",
    "def guided_swap(tour, i, j): # blue\n",
    "    new = flip(tour, i, j)\n",
    "    return interchange(new, i, j)\n",
    "\n",
    "def scramble(tour): # gray\n",
    "    new = tour[:]\n",
    "    random.shuffle(new)\n",
    "    return new"
   ]
  },
  {
   "cell_type": "code",
   "execution_count": 67,
   "id": "21c6d3d1",
   "metadata": {},
   "outputs": [],
   "source": [
    "def lovebird(pop_size=50, max_gen=200, max_loop=50):\n",
    "    population = [random.sample(nodes, dimension) for _ in range(pop_size)]\n",
    "    global_best = min(population, key=total_distance)\n",
    "    history = [total_distance(global_best)]\n",
    "\n",
    "    for g in range(max_gen):\n",
    "        new_candidates = []\n",
    "\n",
    "        for _ in range(pop_size):\n",
    "            S = random.choices(population, weights=[1 / total_distance(p) for p in population])[0]\n",
    "            S = copy.deepcopy(S)\n",
    "            \n",
    "            if random.random() < 0.9:\n",
    "                i, j = sorted(random.sample(range(dimension), 2))\n",
    "                a = random.randint(1, 5)\n",
    "                if a == 1:\n",
    "                    candidate = swap_two(S, i, j)\n",
    "                elif a == 2:\n",
    "                    candidate = flip(S, i, j)\n",
    "                elif a == 3:\n",
    "                    candidate = interchange(S, i, j)\n",
    "                elif a == 4:\n",
    "                    candidate = slide(S, i, j)\n",
    "                elif a == 5:\n",
    "                    candidate = guided_swap(S, i, j)\n",
    "            else:\n",
    "                candidate = scramble(S)\n",
    "\n",
    "            new_candidates.append(candidate)\n",
    "\n",
    "        # Evaluasi\n",
    "        crn_best = min(new_candidates, key=total_distance)\n",
    "        if total_distance(crn_best) < total_distance(global_best):\n",
    "            global_best = crn_best\n",
    "        else:\n",
    "            ls_sol = global_best[:]\n",
    "            for _ in range(max_loop):\n",
    "                i, j = sorted(random.sample(range(dimension), 2))\n",
    "                candidate = interchange(ls_sol, i, j) # UPDATE 1\n",
    "                if total_distance(candidate) < total_distance(ls_sol): # UPDATE 1\n",
    "                    ls_sol = candidate # UPDATE 1\n",
    "\n",
    "            if total_distance(ls_sol) < total_distance(global_best):\n",
    "                global_best = ls_sol\n",
    "\n",
    "        # Simpan ke history\n",
    "        history.append(total_distance(global_best))\n",
    "\n",
    "        # Elitism sederhana: ambil separuh terbaik\n",
    "        population = sorted(new_candidates, key=total_distance)[:pop_size]\n",
    "\n",
    "    return global_best, total_distance(global_best), history"
   ]
  },
  {
   "cell_type": "code",
   "execution_count": null,
   "id": "b78b943f",
   "metadata": {},
   "outputs": [],
   "source": [
    "best_tour_a, best_cost_a, history_a = lovebird()\n",
    "\n",
    "print(\"Best distance found:\", best_cost_a)"
   ]
  },
  {
   "cell_type": "code",
   "execution_count": null,
   "id": "38f20bc0",
   "metadata": {},
   "outputs": [],
   "source": [
    "import matplotlib.pyplot as plt\n",
    "\n",
    "plt.plot(history_a, linestyle='-', color='blue')\n",
    "plt.title(\"Convergence Curve\")\n",
    "plt.xlabel(\"Generation\")\n",
    "plt.ylabel(\"Best Distance\")\n",
    "plt.grid(True)\n",
    "plt.tight_layout()\n",
    "plt.show()"
   ]
  },
  {
   "cell_type": "code",
   "execution_count": 70,
   "id": "38ccd1b9",
   "metadata": {},
   "outputs": [],
   "source": [
    "def localized_lovebird(initial_solution=None, generations=1000, max_loop=50, max_stagnant=float('inf')):\n",
    "    if initial_solution is None:\n",
    "        current = random.sample(nodes, dimension)\n",
    "    else:\n",
    "        current = initial_solution[:]\n",
    "    \n",
    "    global_best = current[:]\n",
    "    best_cost = total_distance(global_best)\n",
    "    history = [best_cost]\n",
    "\n",
    "    stagnation = 0 # UPDATE 4\n",
    "\n",
    "    for _ in range(generations):\n",
    "        S = current[:]\n",
    "\n",
    "        if random.random() < 0.9:\n",
    "            i, j = sorted(random.sample(range(dimension), 2))\n",
    "            a = random.randint(1, 5)\n",
    "            if a == 1:\n",
    "                candidate = swap_two(S, i, j)\n",
    "            elif a == 2:\n",
    "                candidate = flip(S, i, j)\n",
    "            elif a == 3:\n",
    "                candidate = interchange(S, i, j)\n",
    "            elif a == 4:\n",
    "                candidate = slide(S, i, j)\n",
    "            elif a == 5:\n",
    "                candidate = guided_swap(S, i, j)\n",
    "        else:\n",
    "            candidate = scramble(S)\n",
    "\n",
    "        if total_distance(candidate) < total_distance(global_best):\n",
    "            global_best = candidate\n",
    "            current = candidate\n",
    "        else:\n",
    "            ls_sol = global_best[:]\n",
    "            for _ in range(max_loop):\n",
    "                i, j = sorted(random.sample(range(dimension), 2))\n",
    "                candidate = flip(ls_sol, i, j)\n",
    "                if total_distance(candidate) < total_distance(ls_sol):\n",
    "                    ls_sol = candidate\n",
    "            if total_distance(ls_sol) < total_distance(global_best):\n",
    "                global_best = ls_sol\n",
    "                current = ls_sol\n",
    "                best_cost = total_distance(global_best)\n",
    "                stagnation = 0 # UPDATE 4\n",
    "            else:\n",
    "                stagnation += 1\n",
    "\n",
    "        history.append(total_distance(global_best))\n",
    "\n",
    "        if stagnation >= max_stagnant:\n",
    "            break\n",
    "\n",
    "    return global_best, total_distance(global_best), history\n"
   ]
  },
  {
   "cell_type": "code",
   "execution_count": 71,
   "id": "eb5ddbf5",
   "metadata": {},
   "outputs": [
    {
     "name": "stdout",
     "output_type": "stream",
     "text": [
      "Best distance found: 24221\n"
     ]
    }
   ],
   "source": [
    "best_tour_b, best_cost_b, history_b = localized_lovebird()\n",
    "print(\"Best distance found:\", best_cost_b)"
   ]
  },
  {
   "cell_type": "code",
   "execution_count": 72,
   "id": "45c8450f",
   "metadata": {},
   "outputs": [
    {
     "data": {
      "image/png": "[encoded data removed]",
      "text/plain": [
       "<Figure size 640x480 with 1 Axes>"
      ]
     },
     "metadata": {},
     "output_type": "display_data"
    }
   ],
   "source": [
    "plt.plot(history_b, linestyle='-', color='blue')\n",
    "plt.title(\"Convergence Curve\")\n",
    "plt.xlabel(\"Generation\")\n",
    "plt.ylabel(\"Best Distance\")\n",
    "plt.grid(True)\n",
    "plt.tight_layout()\n",
    "plt.show()"
   ]
  },
  {
   "cell_type": "code",
   "execution_count": 73,
   "id": "97412b78",
   "metadata": {},
   "outputs": [],
   "source": [
    "def heavy_scramble(tour, num_cities=6):\n",
    "    new = tour[:]\n",
    "    i = random.randint(0, len(tour) - num_cities)\n",
    "    sub = new[i:i+num_cities]\n",
    "    random.shuffle(sub)\n",
    "    return new[:i] + sub + new[i+num_cities:]\n",
    "\n",
    "\n",
    "def iterated_lovebird(max_iter=30, lea_generations=200):\n",
    "    # 1. Initial solution\n",
    "    current = random.sample(nodes, dimension)\n",
    "    best_sol, best_cost, _ = localized_lovebird(current, generations=lea_generations, max_stagnant=50)\n",
    "\n",
    "    history = [best_cost]\n",
    "\n",
    "    for _ in range(max_iter):\n",
    "        # 2. Perturbation\n",
    "        perturbed = heavy_scramble(best_sol)\n",
    "\n",
    "        # 3. Local Search (gunakan LEA)\n",
    "        improved_sol, improved_cost, _ = localized_lovebird(perturbed, generations=lea_generations, max_stagnant=50)\n",
    "\n",
    "        # 4. Acceptance\n",
    "        if improved_cost < best_cost:\n",
    "            best_sol = improved_sol\n",
    "            best_cost = improved_cost\n",
    "\n",
    "        history.append(best_cost)\n",
    "\n",
    "    best_sol, best_cost, _ = localized_lovebird(best_sol, generations=500) # UPDATE 6\n",
    "\n",
    "    return best_sol, best_cost, history\n"
   ]
  },
  {
   "cell_type": "code",
   "execution_count": 74,
   "id": "444dc4e7",
   "metadata": {},
   "outputs": [
    {
     "name": "stdout",
     "output_type": "stream",
     "text": [
      "Best distance found: 22763\n"
     ]
    }
   ],
   "source": [
    "best_tour_c, best_cost_c, history_c = iterated_lovebird()\n",
    "print(\"Best distance found:\", best_cost_c)"
   ]
  },
  {
   "cell_type": "code",
   "execution_count": 75,
   "id": "a49ea990",
   "metadata": {},
   "outputs": [
    {
     "data": {
      "image/png": "[encoded data removed]",
      "text/plain": [
       "<Figure size 640x480 with 1 Axes>"
      ]
     },
     "metadata": {},
     "output_type": "display_data"
    }
   ],
   "source": [
    "plt.plot(history_c, linestyle='-', color='blue')\n",
    "plt.title(\"Convergence Curve\")\n",
    "plt.xlabel(\"Generation\")\n",
    "plt.ylabel(\"Best Distance\")\n",
    "plt.grid(True)\n",
    "plt.tight_layout()\n",
    "plt.show()"
   ]
  },
  {
   "cell_type": "code",
   "execution_count": null,
   "id": "7c7971ea",
   "metadata": {},
   "outputs": [],
   "source": [
    "N = 10\n",
    "results_original = []\n",
    "results_llb = []\n",
    "results_ilb = []\n",
    "\n",
    "for _ in range(N):\n",
    "    # # Run original\n",
    "    _, cost1, _ = lovebird()\n",
    "    results_original.append(cost1)\n",
    "\n",
    "    # # Run LEA\n",
    "    _, cost2, _ = localized_lovebird()\n",
    "    results_llb.append(cost2)\n",
    "\n",
    "    # Run ILS + LEA\n",
    "    _, cost3, _ = iterated_lovebird()\n",
    "    results_ilb.append(cost3)\n"
   ]
  },
  {
   "cell_type": "code",
   "execution_count": null,
   "id": "7291a30a",
   "metadata": {},
   "outputs": [],
   "source": [
    "# Plot boxplot\n",
    "plt.figure(figsize=(10, 6))\n",
    "plt.boxplot(\n",
    "    [results_original, \n",
    "     results_llb, \n",
    "     results_ilb],\n",
    "    labels=[\"Lovebird\", \n",
    "            \"Localized Lovebird\", \n",
    "            \"Iterated Lovebird\"],\n",
    "    showmeans=True\n",
    ")\n",
    "plt.title(f\"Comparison of TSP Solvers over {N} Runs\")\n",
    "plt.ylabel(\"Final Distance\")\n",
    "plt.grid(axis=\"y\")\n",
    "plt.show()"
   ]
  },
  {
   "cell_type": "code",
   "execution_count": null,
   "id": "b206ee5d",
   "metadata": {},
   "outputs": [],
   "source": [
    "import numpy as np\n",
    "\n",
    "def print_stats(name, results):\n",
    "    print(f\"{name:<10} | Min: {min(results):>7.2f} | Max: {max(results):>7.2f} | \"\n",
    "          f\"Mean: {np.mean(results):>7.2f} | Std: {np.std(results):>7.2f}\")\n",
    "\n",
    "print_stats(\"Lovebird\", results_original)\n",
    "print_stats(\"Localized Lovebird\", results_llb)\n",
    "print_stats(\"Iterated Lovebird\", results_ilb)"
   ]
  },
  {
   "cell_type": "markdown",
   "id": "ce787f49",
   "metadata": {},
   "source": [
    "<h3>PERSONAL REPORT:</h3>\n",
    "\n",
    "**[Update #1 - Added Local Evaluator in the Lovebird Algorithm]**\n",
    "> Enhanced the hill climbing phase by implementing a local comparator to evaluate and retain only better neighboring routes.\n",
    "- Positive: Results improved significantly in terms of total distance.\n",
    "- Negative: Slight increase in runtime due to evaluation overhead.\n",
    "- Conclusion: Continue with this local evaluation mechanism in future iterations.\n",
    "\n",
    "**[Update #2 - Localizing the Lovebird Algorithm (Population Removed)]**\n",
    "> Transformed the Lovebird Algorithm into a localized version by removing population and focusing on a single solution evolution.\n",
    "- Positive: Achieved better results with less memory usage, and runtime remained efficient even with higher iteration counts.\n",
    "- Negative: Solution quality appears to be more sensitive to the choice of the initial tour.\n",
    "- Conclusion: This version will serve as the local search core in a hybrid structure with a global search mechanism.\n",
    "\n",
    "**[Update #3 - Perturbation via Randomized Mutation (ILS Integration)]**\n",
    "> Integrated the Localized Lovebird into an Iterated Local Search (ILS) framework. Perturbation applied via random mutation operators drawn from the original algorithm to preserve its identity.\n",
    "- Positive: Produced more consistent and improved results across multiple runs.\n",
    "- Negative: Significant increase in runtime (from ~10 seconds to nearly 2 minutes).\n",
    "- Conclusion: Effectiveness proven, but runtime cost needs evaluation or optimization.\n",
    "\n",
    "**[Update #4 - Added Early Stop to the Localized Lovebird Algorithm]**\n",
    "> As a solution for the runtime, early stop is added in the localized version.\n",
    "- Positive: Significantly reduced the runtime for localized (10s to 2s) and hybrid version (2 mins to 1 min).\n",
    "- Negative: Slight increase in result variance in the localized version. In the hybrid version, the variance increase is minimal and acceptable\n",
    "- Conclusion: The early stop mechanism provides a good balance between efficiency and performance. Keep early stop active for future experiments.\n",
    "\n",
    "**[Update #5 - Changed the Iterations from 50 to 30 and Generations from 200 to 300]**\n",
    "> For the sake of shortening the runtime of the Iterating Lovebird Algorithm.\n",
    "- Positive: Significantly reduced the runtime from 1-2 mins to 30 secs.\n",
    "- Negative: Increased the result variance and gave slightly worse results than previous.\n",
    "- Conclusion: Change the approach.\n",
    "\n",
    "**[Update #6 - Major Tweak on Localized and Iterated]**\n",
    "> Change the swap to flip in the localized, making it a bit extreme on the changes but still managable. Added heavy_scramble function for richer and controlled perturbation. Added last touch of local search after the iterations ended.\n",
    "- Positive: Better performance and managed to get extremely close to the ideal solution.\n",
    "- Negative: Slightly increased runtime by 5-7 secs.\n",
    "- Conclusion: Done for now. Time to compare with other standard algorithms.\n",
    "\n",
    "It is proven that the ILB is the best one yet, but compared to OR-Tools, the runtime difference is significant."
   ]
  },
  {
   "cell_type": "code",
   "execution_count": 80,
   "id": "ffed4e12",
   "metadata": {},
   "outputs": [],
   "source": [
    "def genetic_algorithm(pop_size=200, generations=1000, mutation_rate=0.1):\n",
    "    population = [random.sample(nodes, dimension) for _ in range(pop_size)]\n",
    "\n",
    "    def crossover(p1, p2):\n",
    "        start, end = sorted(random.sample(range(dimension), 2))\n",
    "        child = p1[start:end+1]\n",
    "        child += [c for c in p2 if c not in child]\n",
    "        return child\n",
    "\n",
    "    def mutate(route):\n",
    "        if random.random() < mutation_rate:\n",
    "            i, j = sorted(random.sample(range(dimension), 2))\n",
    "            route[i], route[j] = route[j], route[i]\n",
    "        return route\n",
    "\n",
    "    best = min(population, key=total_distance)\n",
    "    history = [total_distance(best)]\n",
    "\n",
    "    for _ in range(generations):\n",
    "        new_population = []\n",
    "        population.sort(key=total_distance)\n",
    "        elites = population[:pop_size // 2]\n",
    "        for _ in range(pop_size):\n",
    "            parents = random.sample(elites, 2)\n",
    "            child = crossover(parents[0], parents[1])\n",
    "            child = mutate(child)\n",
    "            new_population.append(child)\n",
    "        population = new_population\n",
    "        current_best = min(population, key=total_distance)\n",
    "        if total_distance(current_best) < total_distance(best):\n",
    "            best = current_best\n",
    "        history.append(total_distance(best))\n",
    "\n",
    "    return best, total_distance(best), history"
   ]
  },
  {
   "cell_type": "code",
   "execution_count": null,
   "id": "dece1418",
   "metadata": {},
   "outputs": [],
   "source": [
    "best_solution_ga, best_cost_ga, history_ga = genetic_algorithm()\n",
    "print(\"Best distance found by GA:\", best_cost_ga)"
   ]
  },
  {
   "cell_type": "code",
   "execution_count": null,
   "id": "b2ec9b05",
   "metadata": {},
   "outputs": [],
   "source": [
    "plt.plot(history_ga, linestyle='-', color='blue')\n",
    "plt.title(\"Convergence Curve (GA)\")\n",
    "plt.xlabel(\"Generation\")\n",
    "plt.ylabel(\"Best Distance\")\n",
    "plt.grid(True)\n",
    "plt.show()"
   ]
  },
  {
   "cell_type": "code",
   "execution_count": 120,
   "id": "5e4bb44a",
   "metadata": {},
   "outputs": [],
   "source": [
    "def simulated_annealing(\n",
    "    initial_temp=1000,\n",
    "    min_temp=0.001,\n",
    "    cooling_rate=0.995\n",
    "):\n",
    "    current = random.sample(nodes, dimension)\n",
    "    best = current[:]\n",
    "    best_cost = total_distance(best)\n",
    "    current_cost = best_cost\n",
    "    temp = initial_temp\n",
    "    history = [best_cost]\n",
    "\n",
    "    while temp > min_temp:\n",
    "        # Generate neighbor by flipping 2 cities\n",
    "        i, j = sorted(random.sample(range(dimension), 2))\n",
    "        candidate = flip(current, i, j)\n",
    "        candidate_cost = total_distance(candidate)\n",
    "        delta = candidate_cost - current_cost\n",
    "\n",
    "        if delta < 0 or random.random() < np.exp(-delta / temp):\n",
    "            current = candidate\n",
    "            current_cost = candidate_cost\n",
    "            if current_cost < best_cost:\n",
    "                best = current[:]\n",
    "                best_cost = current_cost\n",
    "\n",
    "        history.append(best_cost)\n",
    "        temp *= cooling_rate\n",
    "\n",
    "    return best, best_cost, history"
   ]
  },
  {
   "cell_type": "code",
   "execution_count": 122,
   "id": "c3f0403f",
   "metadata": {},
   "outputs": [
    {
     "name": "stdout",
     "output_type": "stream",
     "text": [
      "Best distance found by SA: 39861\n"
     ]
    }
   ],
   "source": [
    "best_solution_sa, best_cost_sa, history_sa = simulated_annealing()\n",
    "print(\"Best distance found by SA:\", best_cost_sa)"
   ]
  },
  {
   "cell_type": "code",
   "execution_count": 123,
   "id": "930464ae",
   "metadata": {},
   "outputs": [
    {
     "data": {
      "image/png": "[encoded data removed]",
      "text/plain": [
       "<Figure size 640x480 with 1 Axes>"
      ]
     },
     "metadata": {},
     "output_type": "display_data"
    }
   ],
   "source": [
    "plt.plot(history_sa, linestyle='-', color='blue')\n",
    "plt.title(\"Convergence Curve (SA)\")\n",
    "plt.xlabel(\"Generation\")\n",
    "plt.ylabel(\"Best Distance\")\n",
    "plt.grid(True)\n",
    "plt.show()"
   ]
  },
  {
   "cell_type": "code",
   "execution_count": 86,
   "id": "9891d86a",
   "metadata": {},
   "outputs": [],
   "source": [
    "def ant_colony_optimization(\n",
    "    n_ants=50, n_best=5, n_iterations=900, decay=0.1, alpha=1, beta=3\n",
    "):\n",
    "    id_to_index = {node: i for i, node in enumerate(nodes)}\n",
    "    index_to_id = {i: node for i, node in enumerate(nodes)}\n",
    "\n",
    "    pheromone = np.ones((dimension, dimension))\n",
    "    distances = np.array([[problem.get_weight(i, j) for j in nodes] for i in nodes])\n",
    "    visibility = 1 / (distances + np.eye(dimension))  # avoid div by zero\n",
    "    np.fill_diagonal(visibility, 0)\n",
    "\n",
    "    best_distance = float('inf')\n",
    "    best_tour = None\n",
    "    history = []\n",
    "\n",
    "    for _ in range(n_iterations):\n",
    "        all_tours = []\n",
    "        all_lengths = []\n",
    "\n",
    "        for _ in range(n_ants):\n",
    "            tour = []\n",
    "            unvisited = nodes[:]\n",
    "            current = random.choice(unvisited)\n",
    "            tour.append(current)\n",
    "            unvisited.remove(current)\n",
    "\n",
    "            while unvisited:\n",
    "                current_idx = id_to_index[current]\n",
    "                probs = []\n",
    "                for j in unvisited:\n",
    "                    j_idx = id_to_index[j]\n",
    "                    pher = pheromone[current_idx][j_idx] ** alpha\n",
    "                    vis = visibility[current_idx][j_idx] ** beta\n",
    "                    probs.append(pher * vis)\n",
    "                probs = np.array(probs)\n",
    "                probs /= probs.sum()\n",
    "                next_city = random.choices(unvisited, weights=probs)[0]\n",
    "                tour.append(next_city)\n",
    "                unvisited.remove(next_city)\n",
    "                current = next_city\n",
    "\n",
    "            all_tours.append(tour)\n",
    "            length = total_distance(tour)\n",
    "            all_lengths.append(length)\n",
    "\n",
    "            if length < best_distance:\n",
    "                best_distance = length\n",
    "                best_tour = tour\n",
    "\n",
    "        # Update pheromone\n",
    "        pheromone *= (1 - decay)\n",
    "        sorted_indices = np.argsort(all_lengths)\n",
    "        for i in sorted_indices[:n_best]:\n",
    "            tour = all_tours[i]\n",
    "            for j in range(dimension - 1):\n",
    "                a, b = id_to_index[tour[j]], id_to_index[tour[j+1]]\n",
    "                pheromone[a][b] += 1.0 / all_lengths[i]\n",
    "            # Loop closure\n",
    "            a, b = id_to_index[tour[-1]], id_to_index[tour[0]]\n",
    "            pheromone[a][b] += 1.0 / all_lengths[i]\n",
    "\n",
    "        history.append(best_distance)\n",
    "\n",
    "    return best_tour, best_distance, history"
   ]
  },
  {
   "cell_type": "code",
   "execution_count": null,
   "id": "45db8ac3",
   "metadata": {},
   "outputs": [],
   "source": [
    "best_solution_aco, best_cost_aco, history_aco = ant_colony_optimization()\n",
    "print(\"Best distance found by ACO:\", best_cost_aco)"
   ]
  },
  {
   "cell_type": "code",
   "execution_count": null,
   "id": "5a9721ca",
   "metadata": {},
   "outputs": [],
   "source": [
    "plt.plot(history_aco, linestyle='-', color='blue')\n",
    "plt.title(\"Convergence Curve (ACO)\")\n",
    "plt.xlabel(\"Generation\")\n",
    "plt.ylabel(\"Best Distance\")\n",
    "plt.grid(True)\n",
    "plt.show()"
   ]
  },
  {
   "cell_type": "code",
   "execution_count": null,
   "id": "8044dc8c",
   "metadata": {},
   "outputs": [],
   "source": [
    "results_ga = []\n",
    "results_sa = []\n",
    "results_aco = []\n",
    "\n",
    "for _ in range(N):\n",
    "    # Run GA\n",
    "    _, costga, _ = genetic_algorithm()\n",
    "    results_ga.append(costga)\n",
    "\n",
    "    # # Run SA\n",
    "    _, costsa, _ = simulated_annealing()\n",
    "    results_sa.append(costsa)\n",
    "\n",
    "    # Run ACO\n",
    "    _, costaco, _ = ant_colony_optimization()\n",
    "    results_aco.append(costaco)\n"
   ]
  },
  {
   "cell_type": "code",
   "execution_count": null,
   "id": "c7035277",
   "metadata": {},
   "outputs": [
    {
     "name": "stderr",
     "output_type": "stream",
     "text": [
      "C:\\Users\\Raditya\\AppData\\Local\\Temp\\ipykernel_6516\\412172053.py:3: MatplotlibDeprecationWarning: The 'labels' parameter of boxplot() has been renamed 'tick_labels' since Matplotlib 3.9; support for the old name will be dropped in 3.11.\n",
      "  plt.boxplot(\n"
     ]
    },
    {
     "data": {
      "image/png": "[encoded data removed]",
      "text/plain": [
       "<Figure size 1000x600 with 1 Axes>"
      ]
     },
     "metadata": {},
     "output_type": "display_data"
    }
   ],
   "source": [
    "# Plot boxplot\n",
    "plt.figure(figsize=(10, 6))\n",
    "plt.boxplot(\n",
    "    [results_ilb,\n",
    "     #results_ga, \n",
    "     results_sa \n",
    "     #results_aco\n",
    "    ],\n",
    "    labels=[\"Iterated Lovebird\", \n",
    "            \"Genetic Algorithm\",\n",
    "            \"Simulated Annealing\"\n",
    "            \"Ant Colony Optimization\"\n",
    "            ],\n",
    "    showmeans=True\n",
    ")\n",
    "plt.title(f\"Comparison of TSP Solvers over {N} Runs\")\n",
    "plt.ylabel(\"Final Distance\")\n",
    "plt.grid(axis=\"y\")\n",
    "plt.show()"
   ]
  },
  {
   "cell_type": "code",
   "execution_count": null,
   "id": "9a748832",
   "metadata": {},
   "outputs": [
    {
     "name": "stdout",
     "output_type": "stream",
     "text": [
      "Iterated Lovebird | Min: 22103.00 | Max: 22971.00 | Mean: 22432.90 | Std:  282.84\n",
      "Simulated Annealing | Min: 22625.00 | Max: 24032.00 | Mean: 23161.20 | Std:  524.66\n"
     ]
    }
   ],
   "source": [
    "def print_stats(name, results):\n",
    "    print(f\"{name:<10} | Min: {min(results):>7.2f} | Max: {max(results):>7.2f} | \"\n",
    "          f\"Mean: {np.mean(results):>7.2f} | Std: {np.std(results):>7.2f}\")\n",
    "\n",
    "print_stats(\"Iterated Lovebird\", results_ilb)\n",
    "print_stats(\"Genetic Algorithm\", results_ga)\n",
    "print_stats(\"Simulated Annealing\", results_sa)\n",
    "print_stats(\"Ant Colony Optimization\", results_aco)"
   ]
  },
  {
   "cell_type": "code",
   "execution_count": 93,
   "id": "65cea7d9",
   "metadata": {},
   "outputs": [],
   "source": [
    "from ortools.constraint_solver import routing_enums_pb2\n",
    "from ortools.constraint_solver import pywrapcp\n",
    "\n",
    "def create_data_model():\n",
    "    matrix = [[problem.get_weight(i, j) for j in nodes] for i in nodes]\n",
    "    return {\n",
    "        'distance_matrix': matrix,\n",
    "        'num_vehicles': 1,\n",
    "        'depot': 0,\n",
    "    }\n",
    "\n",
    "def solve_tsp_with_ortools():\n",
    "    data = create_data_model()\n",
    "\n",
    "    manager = pywrapcp.RoutingIndexManager(\n",
    "        len(data['distance_matrix']),\n",
    "        data['num_vehicles'],\n",
    "        data['depot']\n",
    "    )\n",
    "\n",
    "    routing = pywrapcp.RoutingModel(manager)\n",
    "\n",
    "    def distance_callback(from_index, to_index):\n",
    "        from_node = manager.IndexToNode(from_index)\n",
    "        to_node = manager.IndexToNode(to_index)\n",
    "        return data['distance_matrix'][from_node][to_node]\n",
    "\n",
    "    transit_callback_index = routing.RegisterTransitCallback(distance_callback)\n",
    "\n",
    "    routing.SetArcCostEvaluatorOfAllVehicles(transit_callback_index)\n",
    "\n",
    "    # First solution strategy: GREEDY + LOCAL_SEARCH metaheuristics\n",
    "    search_parameters = pywrapcp.DefaultRoutingSearchParameters()\n",
    "    search_parameters.first_solution_strategy = (\n",
    "        routing_enums_pb2.FirstSolutionStrategy.PATH_CHEAPEST_ARC)\n",
    "    search_parameters.local_search_metaheuristic = (\n",
    "        routing_enums_pb2.LocalSearchMetaheuristic.GUIDED_LOCAL_SEARCH)\n",
    "    search_parameters.time_limit.seconds = 5  # Bisa diubah\n",
    "\n",
    "    # Solve the problem.\n",
    "    solution = routing.SolveWithParameters(search_parameters)\n",
    "\n",
    "    if solution:\n",
    "        index = routing.Start(0)\n",
    "        plan = []\n",
    "        while not routing.IsEnd(index):\n",
    "            plan.append(nodes[manager.IndexToNode(index)])\n",
    "            index = solution.Value(routing.NextVar(index))\n",
    "        plan.append(nodes[manager.IndexToNode(index)])  # return to depot\n",
    "\n",
    "        cost = solution.ObjectiveValue()\n",
    "        return plan, cost\n",
    "    else:\n",
    "        print(\"No solution found!\")\n",
    "        return None, float('inf')"
   ]
  },
  {
   "cell_type": "code",
   "execution_count": 94,
   "id": "835bc9b5",
   "metadata": {},
   "outputs": [
    {
     "name": "stdout",
     "output_type": "stream",
     "text": [
      "OR-Tools Best Distance: 21282\n",
      "Route: [1, 47, 93, 28, 67, 58, 61, 51, 87, 25, 81, 69, 64, 40, 54, 2, 44, 50, 73, 68, 85, 82, 95, 13, 76, 33, 37, 5, 52, 78, 96, 39, 30, 48, 100, 41, 71, 14, 3, 43, 46, 29, 34, 83, 55, 7, 9, 57, 20, 12, 27, 86, 35, 62, 60, 77, 23, 98, 91, 45, 32, 11, 15, 17, 59, 74, 21, 72, 10, 84, 36, 99, 38, 24, 18, 79, 53, 88, 16, 94, 22, 70, 66, 26, 65, 4, 97, 56, 80, 31, 89, 42, 8, 92, 75, 19, 90, 49, 6, 63, 1]\n"
     ]
    }
   ],
   "source": [
    "ortools_tour, ortools_cost = solve_tsp_with_ortools()\n",
    "print(\"OR-Tools Best Distance:\", ortools_cost)\n",
    "print(\"Route:\", ortools_tour)"
   ]
  }
 ],
 "metadata": {
  "kernelspec": {
   "display_name": "Python 3",
   "language": "python",
   "name": "python3"
  },
  "language_info": {
   "codemirror_mode": {
    "name": "ipython",
    "version": 3
   },
   "file_extension": ".py",
   "mimetype": "text/x-python",
   "name": "python",
   "nbconvert_exporter": "python",
   "pygments_lexer": "ipython3",
   "version": "3.13.2"
  }
 },
 "nbformat": 4,
 "nbformat_minor": 5
}

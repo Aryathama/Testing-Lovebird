{
 "cells": [
  {
   "cell_type": "markdown",
   "id": "78ae78c6",
   "metadata": {},
   "source": [
    "Target: Minimal tour length is: \n",
    "- kroA100: 21282\n",
    "- att48: 10628\n",
    "- fri26: 937"
   ]
  },
  {
   "cell_type": "code",
   "execution_count": null,
   "id": "d0755641",
   "metadata": {},
   "outputs": [
    {
     "name": "stdout",
     "output_type": "stream",
     "text": [
      "48\n",
      "[1, 2, 3, 4, 5, 6, 7, 8, 9, 10, 11, 12, 13, 14, 15, 16, 17, 18, 19, 20, 21, 22, 23, 24, 25, 26, 27, 28, 29, 30, 31, 32, 33, 34, 35, 36, 37, 38, 39, 40, 41, 42, 43, 44, 45, 46, 47, 48]\n"
     ]
    }
   ],
   "source": [
    "import tsplib95\n",
    "\n",
    "problem = tsplib95.load('att48.tsp')\n",
    "dimension = problem.dimension\n",
    "nodes = list(problem.get_nodes())\n",
    "print(dimension)\n",
    "print(nodes)"
   ]
  },
  {
   "cell_type": "code",
   "execution_count": 2,
   "id": "8e1a4297",
   "metadata": {},
   "outputs": [],
   "source": [
    "import matplotlib.pyplot as plt\n",
    "import numpy as np\n",
    "import random\n",
    "import copy"
   ]
  },
  {
   "cell_type": "code",
   "execution_count": 3,
   "id": "3ab6ad91",
   "metadata": {},
   "outputs": [
    {
     "name": "stdout",
     "output_type": "stream",
     "text": [
      "Contoh rute: [1, 2, 3, 4, 5, 6, 7, 8, 9, 10, 11, 12, 13, 14, 15, 16, 17, 18, 19, 20, 21, 22, 23, 24, 25, 26, 27, 28, 29, 30, 31, 32, 33, 34, 35, 36, 37, 38, 39, 40, 41, 42, 43, 44, 45, 46, 47, 48]\n",
      "Total jarak: 49840\n"
     ]
    }
   ],
   "source": [
    "def total_distance(tour):\n",
    "    distance = 0\n",
    "    for i in range(len(tour) - 1):\n",
    "        distance += problem.get_weight(tour[i], tour[i + 1])\n",
    "    distance += problem.get_weight(tour[-1], tour[0])  # kembali ke kota awal\n",
    "    return distance\n",
    "\n",
    "# Contoh penggunaan\n",
    "example = list(problem.get_nodes())\n",
    "print(\"Contoh rute:\", example)\n",
    "print(\"Total jarak:\", total_distance(example))"
   ]
  },
  {
   "cell_type": "code",
   "execution_count": 4,
   "id": "1ecefbc6",
   "metadata": {},
   "outputs": [],
   "source": [
    "def swap_two(tour, i, j): # red\n",
    "    new = tour[:]\n",
    "    if j - i < 4:\n",
    "        return interchange(new, i, j)\n",
    "\n",
    "    mid = new[i:j+1]\n",
    "    k = len(mid) // 2\n",
    "    seg1 = mid[:k]\n",
    "    seg2 = mid[k:]\n",
    "    new[i:i+k] = seg2\n",
    "    new[i+k:j+1] = seg1\n",
    "    return new\n",
    "\n",
    "def flip(tour, i, j): # peach\n",
    "    new = tour[:]\n",
    "    new[i:j+1] = reversed(new[i:j+1])\n",
    "    return new\n",
    "\n",
    "def interchange(tour, i, j): # green\n",
    "    new = tour[:]\n",
    "    new[i], new[j] = new[j], new[i]\n",
    "    return new\n",
    "\n",
    "def slide(tour, i, j): # yellow\n",
    "    new = tour[:]\n",
    "    city = new.pop(i)\n",
    "    new.insert(j, city)\n",
    "    return new\n",
    "\n",
    "def guided_swap(tour, i, j): # blue\n",
    "    new = flip(tour, i, j)\n",
    "    return interchange(new, i, j)\n",
    "\n",
    "def scramble(tour): # gray\n",
    "    new = tour[:]\n",
    "    random.shuffle(new)\n",
    "    return new"
   ]
  },
  {
   "cell_type": "code",
   "execution_count": 5,
   "id": "21c6d3d1",
   "metadata": {},
   "outputs": [],
   "source": [
    "def lovebird(pop_size=25, max_gen=25):\n",
    "    population = [random.sample(nodes, dimension) for _ in range(pop_size)]\n",
    "    global_best = min(population, key=total_distance)\n",
    "    history = [total_distance(global_best)]\n",
    "\n",
    "    stagnation = 0\n",
    "\n",
    "    for g in range(max_gen):\n",
    "        new_candidates = []\n",
    "\n",
    "        for _ in range(pop_size):\n",
    "            S = random.choices(population, weights=[1 / total_distance(p) for p in population])[0]\n",
    "            S = copy.deepcopy(S)\n",
    "\n",
    "            if random.random() < 0.9:\n",
    "                i, j = sorted(random.sample(range(dimension), 2))\n",
    "                a = random.randint(1, 5)\n",
    "                if a == 1:\n",
    "                    candidate = swap_two(S, i, j)\n",
    "                elif a == 2:\n",
    "                    candidate = flip(S, i, j)\n",
    "                elif a == 3:\n",
    "                    candidate = interchange(S, i, j)\n",
    "                elif a == 4:\n",
    "                    candidate = slide(S, i, j)\n",
    "                elif a == 5:\n",
    "                    candidate = guided_swap(S, i, j)\n",
    "            else:\n",
    "                candidate = scramble(S)\n",
    "\n",
    "            new_candidates.append(candidate)\n",
    "\n",
    "        crn_best = min(new_candidates, key=total_distance)\n",
    "        if total_distance(crn_best) < total_distance(global_best):\n",
    "            global_best = crn_best\n",
    "        else:\n",
    "            # UPDATE 7\n",
    "            improved = True\n",
    "            ls_sol = global_best[:]\n",
    "\n",
    "            while improved:\n",
    "                improved = False\n",
    "\n",
    "                # Step 1: Swap\n",
    "                for i in range(dimension - 1):\n",
    "                    for j in range(i + 1, dimension):\n",
    "                        candidate = swap_two(ls_sol, i, j)\n",
    "                        if total_distance(candidate) < total_distance(ls_sol):\n",
    "                            ls_sol = candidate\n",
    "                            improved = True\n",
    "                            break\n",
    "                    if improved:\n",
    "                        break\n",
    "\n",
    "                if improved:\n",
    "                    continue  # Ulangi dari swap lagi\n",
    "\n",
    "                # Step 2: Flip\n",
    "                for i in range(dimension - 1):\n",
    "                    for j in range(i + 1, dimension):\n",
    "                        candidate = flip(ls_sol, i, j)\n",
    "                        if total_distance(candidate) < total_distance(ls_sol):\n",
    "                            ls_sol = candidate\n",
    "                            improved = True\n",
    "                            break\n",
    "                    if improved:\n",
    "                        break\n",
    "\n",
    "            if total_distance(ls_sol) < total_distance(global_best):\n",
    "                global_best = ls_sol\n",
    "                stagnation = 0\n",
    "            else:\n",
    "                stagnation += 1\n",
    "\n",
    "        if stagnation >= 5:\n",
    "            break\n",
    "\n",
    "        history.append(total_distance(global_best))\n",
    "        population = sorted(new_candidates, key=total_distance)[:pop_size]\n",
    "\n",
    "    return global_best, total_distance(global_best), history"
   ]
  },
  {
   "cell_type": "code",
   "execution_count": 6,
   "id": "b78b943f",
   "metadata": {},
   "outputs": [
    {
     "name": "stdout",
     "output_type": "stream",
     "text": [
      "Best distance found: 10863\n"
     ]
    }
   ],
   "source": [
    "best_tour_a, best_cost_a, history_a = lovebird()\n",
    "\n",
    "print(\"Best distance found:\", best_cost_a)"
   ]
  },
  {
   "cell_type": "code",
   "execution_count": 7,
   "id": "38f20bc0",
   "metadata": {},
   "outputs": [
    {
     "data": {
      "image/png": "[encoded data removed]",
      "text/plain": [
       "<Figure size 640x480 with 1 Axes>"
      ]
     },
     "metadata": {},
     "output_type": "display_data"
    }
   ],
   "source": [
    "import matplotlib.pyplot as plt\n",
    "\n",
    "plt.plot(history_a, linestyle='-', color='blue')\n",
    "plt.title(\"Convergence Curve\")\n",
    "plt.xlabel(\"Generation\")\n",
    "plt.ylabel(\"Best Distance\")\n",
    "plt.grid(True)\n",
    "plt.tight_layout()\n",
    "plt.show()"
   ]
  },
  {
   "cell_type": "code",
   "execution_count": 8,
   "id": "38ccd1b9",
   "metadata": {},
   "outputs": [],
   "source": [
    "def localized_lovebird(initial_solution=None, generations=500, stagnation_limit=50, local_search_checks=50):\n",
    "    if initial_solution is None:\n",
    "        current = random.sample(nodes, dimension)\n",
    "    else:\n",
    "        current = initial_solution[:]\n",
    "    global_best = current[:]\n",
    "    best_cost = total_distance(global_best)\n",
    "    stagnation = 0\n",
    "    history = [best_cost]\n",
    "\n",
    "    for _ in range(generations):\n",
    "        i, j = sorted(random.sample(range(dimension), 2))\n",
    "        move = random.choice([swap_two, flip, interchange, slide, guided_swap])\n",
    "        candidate = move(current[:], i, j)\n",
    "        candidate_cost = total_distance(candidate)\n",
    "\n",
    "        if candidate_cost < best_cost:\n",
    "            global_best = candidate\n",
    "            best_cost = candidate_cost\n",
    "            current = candidate\n",
    "            stagnation = 0\n",
    "        else:\n",
    "            ls_sol = global_best[:]\n",
    "            ls_cost = best_cost\n",
    "            for _ in range(local_search_checks):\n",
    "                i, j = sorted(random.sample(range(dimension), 2))\n",
    "                trial = flip(ls_sol[:], i, j)\n",
    "                trial_cost = total_distance(trial)\n",
    "                if trial_cost < ls_cost:\n",
    "                    ls_sol, ls_cost = trial, trial_cost\n",
    "\n",
    "            if ls_cost < best_cost:\n",
    "                global_best = ls_sol\n",
    "                best_cost = ls_cost\n",
    "                current = ls_sol\n",
    "                stagnation = 0\n",
    "            else:\n",
    "                stagnation += 1\n",
    "                if stagnation >= stagnation_limit:\n",
    "                    break\n",
    "\n",
    "        history.append(best_cost)\n",
    "\n",
    "    return global_best, best_cost, history"
   ]
  },
  {
   "cell_type": "code",
   "execution_count": 9,
   "id": "eb5ddbf5",
   "metadata": {},
   "outputs": [
    {
     "name": "stdout",
     "output_type": "stream",
     "text": [
      "Best distance found: 11093\n"
     ]
    }
   ],
   "source": [
    "best_tour_b, best_cost_b, history_b = localized_lovebird()\n",
    "print(\"Best distance found:\", best_cost_b)"
   ]
  },
  {
   "cell_type": "code",
   "execution_count": 10,
   "id": "45c8450f",
   "metadata": {},
   "outputs": [
    {
     "data": {
      "image/png": "[encoded data removed]",
      "text/plain": [
       "<Figure size 640x480 with 1 Axes>"
      ]
     },
     "metadata": {},
     "output_type": "display_data"
    }
   ],
   "source": [
    "plt.plot(history_b, linestyle='-', color='blue')\n",
    "plt.title(\"Convergence Curve\")\n",
    "plt.xlabel(\"Generation\")\n",
    "plt.ylabel(\"Best Distance\")\n",
    "plt.grid(True)\n",
    "plt.tight_layout()\n",
    "plt.show()"
   ]
  },
  {
   "cell_type": "code",
   "execution_count": 11,
   "id": "97412b78",
   "metadata": {},
   "outputs": [],
   "source": [
    "def heavy_scramble(tour, num_cities=6):\n",
    "    new = tour[:]\n",
    "    i = random.randint(0, len(tour) - num_cities)\n",
    "    sub = new[i:i+num_cities]\n",
    "    random.shuffle(sub)\n",
    "    return new[:i] + sub + new[i+num_cities:]\n",
    "\n",
    "\n",
    "def iterated_lovebird(max_iter=30, local_gen=200, stagnation_limit=50, local_checks=50, stop_iter=10):\n",
    "    current = random.sample(nodes, dimension)\n",
    "    best_sol, best_cost, _ = localized_lovebird(\n",
    "        current, generations=local_gen, stagnation_limit=stagnation_limit, local_search_checks=local_checks\n",
    "    )\n",
    "\n",
    "    history = [best_cost]\n",
    "\n",
    "    stagnation = 0\n",
    "\n",
    "    for _ in range(max_iter):\n",
    "        perturbed = heavy_scramble(best_sol[:])\n",
    "\n",
    "        improved_sol, improved_cost, _ = localized_lovebird(\n",
    "            perturbed, generations=local_gen, stagnation_limit=stagnation_limit, local_search_checks=local_checks\n",
    "        )\n",
    "\n",
    "        if improved_cost < best_cost:\n",
    "            best_sol = improved_sol\n",
    "            best_cost = improved_cost\n",
    "            stagnation = 0\n",
    "        else:\n",
    "            stagnation += 1\n",
    "            if stagnation >= stop_iter:\n",
    "                break\n",
    "\n",
    "        history.append(best_cost)\n",
    "\n",
    "    # FINAL POLISH STEP (was missing)\n",
    "    best_sol, best_cost, _ = localized_lovebird(\n",
    "        best_sol, generations=300, stagnation_limit=100, local_search_checks=100\n",
    "    )\n",
    "\n",
    "    history.append(best_cost)\n",
    "\n",
    "    return best_sol, best_cost, history\n"
   ]
  },
  {
   "cell_type": "code",
   "execution_count": 12,
   "id": "444dc4e7",
   "metadata": {},
   "outputs": [
    {
     "name": "stdout",
     "output_type": "stream",
     "text": [
      "Best distance found: 10684\n"
     ]
    }
   ],
   "source": [
    "best_tour_c, best_cost_c, history_c = iterated_lovebird()\n",
    "print(\"Best distance found:\", best_cost_c)"
   ]
  },
  {
   "cell_type": "code",
   "execution_count": 13,
   "id": "a49ea990",
   "metadata": {},
   "outputs": [
    {
     "data": {
      "image/png": "[encoded data removed]",
      "text/plain": [
       "<Figure size 640x480 with 1 Axes>"
      ]
     },
     "metadata": {},
     "output_type": "display_data"
    }
   ],
   "source": [
    "plt.plot(history_c, linestyle='-', color='blue')\n",
    "plt.title(\"Convergence Curve\")\n",
    "plt.xlabel(\"Generation\")\n",
    "plt.ylabel(\"Best Distance\")\n",
    "plt.grid(True)\n",
    "plt.tight_layout()\n",
    "plt.show()"
   ]
  },
  {
   "cell_type": "code",
   "execution_count": 14,
   "id": "fa14f470",
   "metadata": {},
   "outputs": [],
   "source": [
    "def tabu_search(initial_solution=None, generations=500, tabu_tenure=10, stagnation_limit=50):\n",
    "    if initial_solution is None:\n",
    "        current = random.sample(nodes, dimension)\n",
    "    else:\n",
    "        current = initial_solution[:]\n",
    "    \n",
    "    global_best = current[:]\n",
    "    best_cost = total_distance(global_best)\n",
    "    history = [best_cost]\n",
    "\n",
    "    # Tabu list: simpan move (i,j) dan umur tersisa\n",
    "    tabu_list = {}\n",
    "\n",
    "    stagnation = 0\n",
    "    for _ in range(generations):\n",
    "        best_candidate = None\n",
    "        best_candidate_cost = float(\"inf\")\n",
    "        best_move = None\n",
    "\n",
    "        # Generate neighborhood moves\n",
    "        for _ in range(50):  # sampling sebagian tetangga, biar gak mahal\n",
    "            i, j = sorted(random.sample(range(dimension), 2))\n",
    "            move = random.choice([swap_two, flip, slide, guided_swap])\n",
    "            candidate = move(current[:], i, j)\n",
    "            candidate_cost = total_distance(candidate)\n",
    "\n",
    "            # Cek tabu\n",
    "            if (i, j) in tabu_list and candidate_cost >= best_cost:\n",
    "                continue  # tabu dan tidak memenuhi aspiration\n",
    "\n",
    "            if candidate_cost < best_candidate_cost:\n",
    "                best_candidate = candidate\n",
    "                best_candidate_cost = candidate_cost\n",
    "                best_move = (i, j)\n",
    "\n",
    "        # Update solusi\n",
    "        if best_candidate is not None:\n",
    "            current = best_candidate\n",
    "            if best_candidate_cost < best_cost:\n",
    "                global_best = best_candidate\n",
    "                best_cost = best_candidate_cost\n",
    "                stagnation = 0\n",
    "            else:\n",
    "                stagnation += 1\n",
    "\n",
    "            # Update tabu list\n",
    "            tabu_list[best_move] = tabu_tenure\n",
    "\n",
    "            # Kurangi umur tabu list\n",
    "            for move in list(tabu_list.keys()):\n",
    "                tabu_list[move] -= 1\n",
    "                if tabu_list[move] <= 0:\n",
    "                    del tabu_list[move]\n",
    "        else:\n",
    "            stagnation += 1\n",
    "\n",
    "        history.append(best_cost)\n",
    "        if stagnation >= stagnation_limit:\n",
    "            break\n",
    "\n",
    "    return global_best, best_cost, history\n"
   ]
  },
  {
   "cell_type": "code",
   "execution_count": 15,
   "id": "5a5b8a9a",
   "metadata": {},
   "outputs": [
    {
     "name": "stdout",
     "output_type": "stream",
     "text": [
      "Best distance found: 11203\n"
     ]
    }
   ],
   "source": [
    "best_tour_d, best_cost_d, history_d = tabu_search()\n",
    "print(\"Best distance found:\", best_cost_d)"
   ]
  },
  {
   "cell_type": "code",
   "execution_count": 16,
   "id": "2cd5649c",
   "metadata": {},
   "outputs": [
    {
     "data": {
      "image/png": "[encoded data removed]",
      "text/plain": [
       "<Figure size 640x480 with 1 Axes>"
      ]
     },
     "metadata": {},
     "output_type": "display_data"
    }
   ],
   "source": [
    "plt.plot(history_d, linestyle='-', color='blue')\n",
    "plt.title(\"Convergence Curve\")\n",
    "plt.xlabel(\"Generation\")\n",
    "plt.ylabel(\"Best Distance\")\n",
    "plt.grid(True)\n",
    "plt.tight_layout()\n",
    "plt.show()"
   ]
  },
  {
   "cell_type": "code",
   "execution_count": 36,
   "id": "f93e0f4d",
   "metadata": {},
   "outputs": [],
   "source": [
    "def hybrid_llb_tabu(initial_solution=None, generations=600,\n",
    "                    stagnation_limit=50, local_search_checks=70,\n",
    "                    tabu_generations=1000, tabu_tenure=10):\n",
    "    if initial_solution is None:\n",
    "        current = random.sample(nodes, dimension)\n",
    "    else:\n",
    "        current = initial_solution[:]\n",
    "    global_best = current[:]\n",
    "    best_cost = total_distance(global_best)\n",
    "    stagnation = 0\n",
    "    history = [best_cost]\n",
    "\n",
    "    for _ in range(generations):\n",
    "        # --- Localized Lovebird normal step ---\n",
    "        i, j = sorted(random.sample(range(dimension), 2))\n",
    "        move = random.choice([swap_two, flip, interchange, slide, guided_swap])\n",
    "        candidate = move(current[:], i, j)\n",
    "        candidate_cost = total_distance(candidate)\n",
    "\n",
    "        if candidate_cost < best_cost:\n",
    "            global_best = candidate\n",
    "            best_cost = candidate_cost\n",
    "            current = candidate\n",
    "            stagnation = 0\n",
    "        else:\n",
    "            # Local refinement\n",
    "            ls_sol = global_best[:]\n",
    "            ls_cost = best_cost\n",
    "            for _ in range(local_search_checks):\n",
    "                i, j = sorted(random.sample(range(dimension), 2))\n",
    "                trial = flip(ls_sol[:], i, j)\n",
    "                trial_cost = total_distance(trial)\n",
    "                if trial_cost < ls_cost:\n",
    "                    ls_sol, ls_cost = trial, trial_cost\n",
    "\n",
    "            if ls_cost < best_cost:\n",
    "                global_best = ls_sol\n",
    "                best_cost = ls_cost\n",
    "                current = ls_sol\n",
    "                stagnation = 0\n",
    "            else:\n",
    "                stagnation += 1\n",
    "\n",
    "        # --- Check stagnation: call Tabu Search ---\n",
    "        if stagnation >= stagnation_limit:\n",
    "            ts_best, ts_cost, _ = tabu_search(\n",
    "                initial_solution=global_best,\n",
    "                generations=tabu_generations,\n",
    "                tabu_tenure=tabu_tenure,\n",
    "                stagnation_limit=stagnation_limit//2\n",
    "            )\n",
    "            if ts_cost < best_cost:\n",
    "                global_best, best_cost = ts_best, ts_cost\n",
    "                current = ts_best\n",
    "            stagnation = 0  # reset stagnation setelah TS\n",
    "\n",
    "        history.append(best_cost)\n",
    "\n",
    "    return global_best, best_cost, history\n"
   ]
  },
  {
   "cell_type": "code",
   "execution_count": null,
   "id": "034ed82c",
   "metadata": {},
   "outputs": [
    {
     "name": "stderr",
     "output_type": "stream",
     "text": [
      "[I 2025-08-20 09:44:20,188] A new study created in memory with name: no-name-b82bbf63-45b1-4680-bc80-8a4c09690929\n",
      "[I 2025-08-20 09:44:28,372] Trial 0 finished with value: 10891.0 and parameters: {'generations': 649, 'stagnation_limit': 55, 'local_search_checks': 96, 'tabu_generations': 1180, 'tabu_tenure': 12}. Best is trial 0 with value: 10891.0.\n",
      "[I 2025-08-20 09:44:32,838] Trial 1 finished with value: 11180.0 and parameters: {'generations': 564, 'stagnation_limit': 37, 'local_search_checks': 54, 'tabu_generations': 919, 'tabu_tenure': 12}. Best is trial 0 with value: 10891.0.\n",
      "[I 2025-08-20 09:44:40,559] Trial 2 finished with value: 10998.0 and parameters: {'generations': 561, 'stagnation_limit': 45, 'local_search_checks': 89, 'tabu_generations': 1489, 'tabu_tenure': 28}. Best is trial 0 with value: 10891.0.\n",
      "[I 2025-08-20 09:44:50,267] Trial 3 finished with value: 10874.0 and parameters: {'generations': 665, 'stagnation_limit': 34, 'local_search_checks': 99, 'tabu_generations': 932, 'tabu_tenure': 21}. Best is trial 3 with value: 10874.0.\n",
      "[I 2025-08-20 09:45:01,362] Trial 4 finished with value: 10869.0 and parameters: {'generations': 706, 'stagnation_limit': 78, 'local_search_checks': 91, 'tabu_generations': 1149, 'tabu_tenure': 26}. Best is trial 4 with value: 10869.0.\n",
      "[I 2025-08-20 09:45:08,466] Trial 5 finished with value: 11342.0 and parameters: {'generations': 604, 'stagnation_limit': 59, 'local_search_checks': 66, 'tabu_generations': 1022, 'tabu_tenure': 20}. Best is trial 4 with value: 10869.0.\n",
      "[I 2025-08-20 09:45:15,623] Trial 6 finished with value: 11140.0 and parameters: {'generations': 642, 'stagnation_limit': 93, 'local_search_checks': 56, 'tabu_generations': 1459, 'tabu_tenure': 24}. Best is trial 4 with value: 10869.0.\n",
      "[I 2025-08-20 09:45:38,621] Trial 7 finished with value: 10755.0 and parameters: {'generations': 694, 'stagnation_limit': 59, 'local_search_checks': 53, 'tabu_generations': 1175, 'tabu_tenure': 13}. Best is trial 7 with value: 10755.0.\n",
      "[I 2025-08-20 09:46:18,373] Trial 8 finished with value: 11039.0 and parameters: {'generations': 669, 'stagnation_limit': 72, 'local_search_checks': 72, 'tabu_generations': 1438, 'tabu_tenure': 18}. Best is trial 7 with value: 10755.0.\n",
      "[I 2025-08-20 09:46:59,835] Trial 9 finished with value: 10951.0 and parameters: {'generations': 733, 'stagnation_limit': 94, 'local_search_checks': 81, 'tabu_generations': 1278, 'tabu_tenure': 22}. Best is trial 7 with value: 10755.0.\n",
      "[I 2025-08-20 09:47:40,670] Trial 10 finished with value: 10846.0 and parameters: {'generations': 500, 'stagnation_limit': 81, 'local_search_checks': 64, 'tabu_generations': 819, 'tabu_tenure': 16}. Best is trial 7 with value: 10755.0.\n",
      "[I 2025-08-20 09:48:02,921] Trial 11 finished with value: 10765.0 and parameters: {'generations': 512, 'stagnation_limit': 77, 'local_search_checks': 63, 'tabu_generations': 763, 'tabu_tenure': 16}. Best is trial 7 with value: 10755.0.\n",
      "[I 2025-08-20 09:48:24,825] Trial 12 finished with value: 10954.0 and parameters: {'generations': 505, 'stagnation_limit': 64, 'local_search_checks': 50, 'tabu_generations': 775, 'tabu_tenure': 15}. Best is trial 7 with value: 10755.0.\n",
      "[I 2025-08-20 09:49:19,807] Trial 13 finished with value: 11119.0 and parameters: {'generations': 747, 'stagnation_limit': 51, 'local_search_checks': 60, 'tabu_generations': 1274, 'tabu_tenure': 11}. Best is trial 7 with value: 10755.0.\n",
      "[I 2025-08-20 09:50:05,225] Trial 14 finished with value: 11162.0 and parameters: {'generations': 602, 'stagnation_limit': 68, 'local_search_checks': 71, 'tabu_generations': 1047, 'tabu_tenure': 15}. Best is trial 7 with value: 10755.0.\n",
      "[I 2025-08-20 09:50:33,842] Trial 15 finished with value: 11022.0 and parameters: {'generations': 699, 'stagnation_limit': 84, 'local_search_checks': 78, 'tabu_generations': 1304, 'tabu_tenure': 10}. Best is trial 7 with value: 10755.0.\n",
      "[I 2025-08-20 09:50:49,739] Trial 16 finished with value: 11062.0 and parameters: {'generations': 547, 'stagnation_limit': 25, 'local_search_checks': 61, 'tabu_generations': 1059, 'tabu_tenure': 17}. Best is trial 7 with value: 10755.0.\n",
      "[I 2025-08-20 09:51:24,630] Trial 17 finished with value: 10982.0 and parameters: {'generations': 612, 'stagnation_limit': 74, 'local_search_checks': 50, 'tabu_generations': 866, 'tabu_tenure': 14}. Best is trial 7 with value: 10755.0.\n",
      "[I 2025-08-20 09:52:15,382] Trial 18 finished with value: 10979.0 and parameters: {'generations': 702, 'stagnation_limit': 87, 'local_search_checks': 57, 'tabu_generations': 975, 'tabu_tenure': 19}. Best is trial 7 with value: 10755.0.\n",
      "[I 2025-08-20 09:52:56,544] Trial 19 finished with value: 10976.0 and parameters: {'generations': 532, 'stagnation_limit': 47, 'local_search_checks': 67, 'tabu_generations': 1214, 'tabu_tenure': 13}. Best is trial 7 with value: 10755.0.\n",
      "[I 2025-08-20 09:53:38,196] Trial 20 finished with value: 10744.0 and parameters: {'generations': 584, 'stagnation_limit': 61, 'local_search_checks': 70, 'tabu_generations': 1103, 'tabu_tenure': 17}. Best is trial 20 with value: 10744.0.\n",
      "[I 2025-08-20 09:54:07,567] Trial 21 finished with value: 11139.0 and parameters: {'generations': 578, 'stagnation_limit': 63, 'local_search_checks': 70, 'tabu_generations': 1081, 'tabu_tenure': 17}. Best is trial 20 with value: 10744.0.\n",
      "[I 2025-08-20 09:54:30,494] Trial 22 finished with value: 11017.0 and parameters: {'generations': 524, 'stagnation_limit': 57, 'local_search_checks': 76, 'tabu_generations': 1339, 'tabu_tenure': 14}. Best is trial 20 with value: 10744.0.\n",
      "[I 2025-08-20 09:54:56,547] Trial 23 finished with value: 11313.0 and parameters: {'generations': 584, 'stagnation_limit': 100, 'local_search_checks': 62, 'tabu_generations': 1376, 'tabu_tenure': 18}. Best is trial 20 with value: 10744.0.\n",
      "[I 2025-08-20 09:55:37,375] Trial 24 finished with value: 10998.0 and parameters: {'generations': 629, 'stagnation_limit': 69, 'local_search_checks': 81, 'tabu_generations': 1219, 'tabu_tenure': 23}. Best is trial 20 with value: 10744.0.\n",
      "[I 2025-08-20 09:55:50,470] Trial 25 finished with value: 11229.0 and parameters: {'generations': 527, 'stagnation_limit': 76, 'local_search_checks': 54, 'tabu_generations': 758, 'tabu_tenure': 30}. Best is trial 20 with value: 10744.0.\n",
      "[I 2025-08-20 09:56:19,502] Trial 26 finished with value: 10878.0 and parameters: {'generations': 678, 'stagnation_limit': 66, 'local_search_checks': 59, 'tabu_generations': 1115, 'tabu_tenure': 16}. Best is trial 20 with value: 10744.0.\n",
      "[I 2025-08-20 09:56:50,253] Trial 27 finished with value: 10797.0 and parameters: {'generations': 584, 'stagnation_limit': 51, 'local_search_checks': 68, 'tabu_generations': 870, 'tabu_tenure': 10}. Best is trial 20 with value: 10744.0.\n",
      "[I 2025-08-20 09:57:11,281] Trial 28 finished with value: 11054.0 and parameters: {'generations': 622, 'stagnation_limit': 44, 'local_search_checks': 64, 'tabu_generations': 975, 'tabu_tenure': 20}. Best is trial 20 with value: 10744.0.\n",
      "[I 2025-08-20 09:57:41,143] Trial 29 finished with value: 10855.0 and parameters: {'generations': 650, 'stagnation_limit': 59, 'local_search_checks': 74, 'tabu_generations': 1219, 'tabu_tenure': 12}. Best is trial 20 with value: 10744.0.\n",
      "[I 2025-08-20 09:58:09,007] Trial 30 finished with value: 10998.0 and parameters: {'generations': 550, 'stagnation_limit': 54, 'local_search_checks': 53, 'tabu_generations': 1151, 'tabu_tenure': 13}. Best is trial 20 with value: 10744.0.\n",
      "[I 2025-08-20 09:58:53,471] Trial 31 finished with value: 10899.0 and parameters: {'generations': 577, 'stagnation_limit': 49, 'local_search_checks': 68, 'tabu_generations': 850, 'tabu_tenure': 10}. Best is trial 20 with value: 10744.0.\n",
      "[I 2025-08-20 09:59:31,622] Trial 32 finished with value: 10898.0 and parameters: {'generations': 595, 'stagnation_limit': 38, 'local_search_checks': 64, 'tabu_generations': 887, 'tabu_tenure': 11}. Best is trial 20 with value: 10744.0.\n",
      "[I 2025-08-20 10:00:19,417] Trial 33 finished with value: 10979.0 and parameters: {'generations': 560, 'stagnation_limit': 53, 'local_search_checks': 69, 'tabu_generations': 795, 'tabu_tenure': 13}. Best is trial 20 with value: 10744.0.\n",
      "[I 2025-08-20 10:00:53,994] Trial 34 finished with value: 10663.0 and parameters: {'generations': 634, 'stagnation_limit': 40, 'local_search_checks': 74, 'tabu_generations': 925, 'tabu_tenure': 11}. Best is trial 34 with value: 10663.0.\n",
      "[I 2025-08-20 10:01:03,161] Trial 35 finished with value: 11055.0 and parameters: {'generations': 686, 'stagnation_limit': 33, 'local_search_checks': 85, 'tabu_generations': 930, 'tabu_tenure': 15}. Best is trial 34 with value: 10663.0.\n",
      "[I 2025-08-20 10:01:11,996] Trial 36 finished with value: 10884.0 and parameters: {'generations': 725, 'stagnation_limit': 39, 'local_search_checks': 75, 'tabu_generations': 998, 'tabu_tenure': 12}. Best is trial 34 with value: 10663.0.\n",
      "[I 2025-08-20 10:01:20,496] Trial 37 finished with value: 11254.0 and parameters: {'generations': 653, 'stagnation_limit': 43, 'local_search_checks': 79, 'tabu_generations': 1101, 'tabu_tenure': 14}. Best is trial 34 with value: 10663.0.\n",
      "[I 2025-08-20 10:01:30,151] Trial 38 finished with value: 11020.0 and parameters: {'generations': 620, 'stagnation_limit': 32, 'local_search_checks': 90, 'tabu_generations': 1162, 'tabu_tenure': 18}. Best is trial 34 with value: 10663.0.\n",
      "[I 2025-08-20 10:01:40,460] Trial 39 finished with value: 11100.0 and parameters: {'generations': 634, 'stagnation_limit': 61, 'local_search_checks': 94, 'tabu_generations': 930, 'tabu_tenure': 16}. Best is trial 34 with value: 10663.0.\n",
      "[I 2025-08-20 10:01:46,975] Trial 40 finished with value: 10865.0 and parameters: {'generations': 516, 'stagnation_limit': 81, 'local_search_checks': 73, 'tabu_generations': 1013, 'tabu_tenure': 21}. Best is trial 34 with value: 10663.0.\n",
      "[I 2025-08-20 10:01:53,156] Trial 41 finished with value: 11015.0 and parameters: {'generations': 541, 'stagnation_limit': 56, 'local_search_checks': 65, 'tabu_generations': 822, 'tabu_tenure': 11}. Best is trial 34 with value: 10663.0.\n",
      "[I 2025-08-20 10:01:59,271] Trial 42 finished with value: 10951.0 and parameters: {'generations': 592, 'stagnation_limit': 71, 'local_search_checks': 57, 'tabu_generations': 878, 'tabu_tenure': 10}. Best is trial 34 with value: 10663.0.\n",
      "[I 2025-08-20 10:02:06,353] Trial 43 finished with value: 11323.0 and parameters: {'generations': 565, 'stagnation_limit': 42, 'local_search_checks': 71, 'tabu_generations': 824, 'tabu_tenure': 12}. Best is trial 34 with value: 10663.0.\n",
      "[I 2025-08-20 10:02:14,416] Trial 44 finished with value: 10793.0 and parameters: {'generations': 667, 'stagnation_limit': 49, 'local_search_checks': 68, 'tabu_generations': 790, 'tabu_tenure': 11}. Best is trial 34 with value: 10663.0.\n",
      "[I 2025-08-20 10:02:20,661] Trial 45 finished with value: 10712.0 and parameters: {'generations': 674, 'stagnation_limit': 47, 'local_search_checks': 52, 'tabu_generations': 785, 'tabu_tenure': 13}. Best is trial 34 with value: 10663.0.\n",
      "[I 2025-08-20 10:02:27,947] Trial 46 finished with value: 10978.0 and parameters: {'generations': 715, 'stagnation_limit': 28, 'local_search_checks': 53, 'tabu_generations': 755, 'tabu_tenure': 15}. Best is trial 34 with value: 10663.0.\n",
      "[I 2025-08-20 10:02:34,613] Trial 47 finished with value: 10712.0 and parameters: {'generations': 689, 'stagnation_limit': 60, 'local_search_checks': 51, 'tabu_generations': 963, 'tabu_tenure': 17}. Best is trial 34 with value: 10663.0.\n",
      "[I 2025-08-20 10:02:42,498] Trial 48 finished with value: 10884.0 and parameters: {'generations': 686, 'stagnation_limit': 59, 'local_search_checks': 51, 'tabu_generations': 1189, 'tabu_tenure': 17}. Best is trial 34 with value: 10663.0.\n",
      "[I 2025-08-20 10:02:51,976] Trial 49 finished with value: 10985.0 and parameters: {'generations': 654, 'stagnation_limit': 63, 'local_search_checks': 55, 'tabu_generations': 959, 'tabu_tenure': 19}. Best is trial 34 with value: 10663.0.\n"
     ]
    },
    {
     "name": "stdout",
     "output_type": "stream",
     "text": [
      "Best params: {'generations': 634, 'stagnation_limit': 40, 'local_search_checks': 74, 'tabu_generations': 925, 'tabu_tenure': 11}\n",
      "Best cost: 10663.0\n"
     ]
    }
   ],
   "source": [
    "# import optuna\n",
    "\n",
    "# def objective(trial):\n",
    "#     # --- Definisi search space parameter ---\n",
    "#     generations = trial.suggest_int(\"generations\", 500, 750)\n",
    "#     stagnation_limit = trial.suggest_int(\"stagnation_limit\", 25, 100)\n",
    "#     local_search_checks = trial.suggest_int(\"local_search_checks\", 50, 100)\n",
    "#     tabu_generations = trial.suggest_int(\"tabu_generations\", 750, 1500)\n",
    "#     tabu_tenure = trial.suggest_int(\"tabu_tenure\", 10, 30)\n",
    "\n",
    "#     # --- Jalankan hybrid ---\n",
    "#     best_sol, best_cost, history = hybrid_llb_tabu(\n",
    "#         initial_solution=None,\n",
    "#         generations=generations,\n",
    "#         stagnation_limit=stagnation_limit,\n",
    "#         local_search_checks=local_search_checks,\n",
    "#         tabu_generations=tabu_generations,\n",
    "#         tabu_tenure=tabu_tenure\n",
    "#     )\n",
    "\n",
    "#     return best_cost  # Optuna minimisasi nilai ini\n",
    "\n",
    "# # --- Jalankan Optuna study ---\n",
    "# study = optuna.create_study(direction=\"minimize\")\n",
    "# study.optimize(objective, n_trials=50)  # misal 30 trial dulu\n",
    "\n",
    "# # --- Cetak hasil terbaik ---\n",
    "# print(\"Best params:\", study.best_params)\n",
    "# print(\"Best cost:\", study.best_value)"
   ]
  },
  {
   "cell_type": "code",
   "execution_count": null,
   "id": "1116ec54",
   "metadata": {},
   "outputs": [
    {
     "name": "stderr",
     "output_type": "stream",
     "text": [
      "C:\\Users\\Raditya\\AppData\\Local\\Temp\\ipykernel_34384\\25536793.py:4: ExperimentalWarning: plot_optimization_history is experimental (supported from v2.2.0). The interface can change in the future.\n",
      "  fig1 = vis.plot_optimization_history(study)\n"
     ]
    },
    {
     "ename": "AttributeError",
     "evalue": "'Axes' object has no attribute 'show'",
     "output_type": "error",
     "traceback": [
      "\u001b[31m---------------------------------------------------------------------------\u001b[39m",
      "\u001b[31mAttributeError\u001b[39m                            Traceback (most recent call last)",
      "\u001b[36mCell\u001b[39m\u001b[36m \u001b[39m\u001b[32mIn[35]\u001b[39m\u001b[32m, line 5\u001b[39m\n\u001b[32m      3\u001b[39m \u001b[38;5;66;03m# Plot perkembangan nilai objective (cost) per trial\u001b[39;00m\n\u001b[32m      4\u001b[39m fig1 = vis.plot_optimization_history(study)\n\u001b[32m----> \u001b[39m\u001b[32m5\u001b[39m \u001b[43mfig1\u001b[49m\u001b[43m.\u001b[49m\u001b[43mshow\u001b[49m()\n\u001b[32m      7\u001b[39m \u001b[38;5;66;03m# Plot distribusi parameter yang diuji\u001b[39;00m\n\u001b[32m      8\u001b[39m fig2 = vis.plot_param_importances(study)\n",
      "\u001b[31mAttributeError\u001b[39m: 'Axes' object has no attribute 'show'"
     ]
    },
    {
     "data": {
      "image/png": "[encoded data removed]",
      "text/plain": [
       "<Figure size 640x480 with 1 Axes>"
      ]
     },
     "metadata": {},
     "output_type": "display_data"
    }
   ],
   "source": [
    "# import optuna.visualization.matplotlib as vis\n",
    "\n",
    "# # Plot perkembangan nilai objective (cost) per trial\n",
    "# fig1 = vis.plot_optimization_history(study)\n",
    "# fig1.show()\n",
    "\n",
    "# # Plot distribusi parameter yang diuji\n",
    "# fig2 = vis.plot_param_importances(study)\n",
    "# fig2.show()\n",
    "\n",
    "# # Plot hubungan parameter dengan nilai objective\n",
    "# fig3 = vis.plot_slice(study)\n",
    "# fig3.show()"
   ]
  },
  {
   "cell_type": "code",
   "execution_count": 37,
   "id": "b259f730",
   "metadata": {},
   "outputs": [
    {
     "name": "stdout",
     "output_type": "stream",
     "text": [
      "Best distance found: 10912\n"
     ]
    }
   ],
   "source": [
    "best_tour_e, best_cost_e, history_e = hybrid_llb_tabu()\n",
    "print(\"Best distance found:\", best_cost_e)"
   ]
  },
  {
   "cell_type": "code",
   "execution_count": 38,
   "id": "7935d894",
   "metadata": {},
   "outputs": [
    {
     "data": {
      "image/png": "[encoded data removed]",
      "text/plain": [
       "<Figure size 640x480 with 1 Axes>"
      ]
     },
     "metadata": {},
     "output_type": "display_data"
    }
   ],
   "source": [
    "plt.plot(history_e, linestyle='-', color='blue')\n",
    "plt.title(\"Convergence Curve\")\n",
    "plt.xlabel(\"Generation\")\n",
    "plt.ylabel(\"Best Distance\")\n",
    "plt.grid(True)\n",
    "plt.tight_layout()\n",
    "plt.show()"
   ]
  },
  {
   "cell_type": "code",
   "execution_count": 39,
   "id": "a2c30e3a",
   "metadata": {},
   "outputs": [],
   "source": [
    "def greedy_randomized_construction(rcl_size=5):\n",
    "    nodes_left = nodes[:]  # semua kota\n",
    "    current = [random.choice(nodes_left)]  # mulai dari kota acak\n",
    "    nodes_left.remove(current[0])\n",
    "\n",
    "    while nodes_left:\n",
    "        # Hitung jarak ke semua kandidat\n",
    "        distances = [(node, problem.get_weight(current[-1], node)) for node in nodes_left]\n",
    "        distances.sort(key=lambda x: x[1])  # urut berdasarkan jarak\n",
    "\n",
    "        # Restricted Candidate List (RCL)\n",
    "        rcl = distances[:min(rcl_size, len(distances))]\n",
    "\n",
    "        # Pilih random dari RCL\n",
    "        chosen, _ = random.choice(rcl)\n",
    "        current.append(chosen)\n",
    "        nodes_left.remove(chosen)\n",
    "\n",
    "    return current"
   ]
  },
  {
   "cell_type": "code",
   "execution_count": 40,
   "id": "e899e270",
   "metadata": {},
   "outputs": [],
   "source": [
    "def grasp_llb(max_iterations=25, ls_generations=50, rcl_size=5):\n",
    "    global_best = None\n",
    "    best_cost = float(\"inf\")\n",
    "    history = []\n",
    "\n",
    "    for _ in range(max_iterations):\n",
    "        # --- Construct semi-greedy solution ---\n",
    "        candidate = greedy_randomized_construction(rcl_size)\n",
    "        \n",
    "        # --- Local search (pakai LLB) ---\n",
    "        refined, cost, _ = localized_lovebird(\n",
    "            initial_solution=candidate,\n",
    "            generations=ls_generations,\n",
    "            stagnation_limit=20\n",
    "        )\n",
    "\n",
    "        if cost < best_cost:\n",
    "            global_best = refined\n",
    "            best_cost = cost\n",
    "        history.append(best_cost)\n",
    "\n",
    "    return global_best, best_cost, history"
   ]
  },
  {
   "cell_type": "code",
   "execution_count": 41,
   "id": "4f9b73c8",
   "metadata": {},
   "outputs": [
    {
     "name": "stdout",
     "output_type": "stream",
     "text": [
      "Best distance found: 11128\n"
     ]
    }
   ],
   "source": [
    "best_tour_f, best_cost_f, history_f = grasp_llb()\n",
    "print(\"Best distance found:\", best_cost_f)"
   ]
  },
  {
   "cell_type": "code",
   "execution_count": 42,
   "id": "ee4ceb17",
   "metadata": {},
   "outputs": [
    {
     "data": {
      "image/png": "[encoded data removed]",
      "text/plain": [
       "<Figure size 640x480 with 1 Axes>"
      ]
     },
     "metadata": {},
     "output_type": "display_data"
    }
   ],
   "source": [
    "plt.plot(history_f, linestyle='-', color='blue')\n",
    "plt.title(\"Convergence Curve\")\n",
    "plt.xlabel(\"Generation\")\n",
    "plt.ylabel(\"Best Distance\")\n",
    "plt.grid(True)\n",
    "plt.tight_layout()\n",
    "plt.show()"
   ]
  },
  {
   "cell_type": "code",
   "execution_count": 25,
   "id": "23033201",
   "metadata": {},
   "outputs": [],
   "source": [
    "# import optuna\n",
    "# import time\n",
    "\n",
    "# # Objective function for Optuna\n",
    "# def objective(trial):\n",
    "#     # Hyperparameters to tune\n",
    "#     max_iter = trial.suggest_int(\"max_iter\", 15, 25)\n",
    "#     local_gen = trial.suggest_int(\"local_gen\", 60, 65)\n",
    "#     stagnation_limit = trial.suggest_int(\"stagnation_limit\", 10, 20)\n",
    "#     local_checks = trial.suggest_int(\"local_checks\", 55, 65)\n",
    "\n",
    "#     start_time = time.time()\n",
    "\n",
    "#     # Run the algorithm\n",
    "#     _, best_cost, _ = iterated_lovebird(\n",
    "#         max_iter=max_iter,\n",
    "#         local_gen=local_gen,\n",
    "#         stagnation_limit=stagnation_limit,\n",
    "#         local_checks=local_checks\n",
    "#     )\n",
    "\n",
    "#     end_time = time.time()\n",
    "#     duration = end_time - start_time\n",
    "\n",
    "#     if duration > 30:\n",
    "#         raise optuna.exceptions.TrialPruned(\"Trial took too long\")\n",
    "\n",
    "#     return best_cost, duration\n",
    "\n",
    "# # Create and run Optuna study\n",
    "# study = optuna.create_study(directions=[\"minimize\", \"minimize\"])\n",
    "# study.optimize(objective, n_trials=50)\n",
    "\n",
    "# best = study.best_trials[0]\n",
    "# # Print best result\n",
    "# print(\"Best Parameters:\")\n",
    "# print(best.params)\n",
    "# print(\"Best Cost:\")\n",
    "# print(best.values)"
   ]
  },
  {
   "cell_type": "code",
   "execution_count": 26,
   "id": "ae332868",
   "metadata": {},
   "outputs": [],
   "source": [
    "# df = study.trials_dataframe()\n",
    "# print(df[[\"params_max_iter\", \"params_local_gen\", \"params_stagnation_limit\", \"params_local_checks\", \"values_0\", \"values_1\"]])"
   ]
  },
  {
   "cell_type": "code",
   "execution_count": 43,
   "id": "7c7971ea",
   "metadata": {},
   "outputs": [],
   "source": [
    "import time\n",
    "\n",
    "N = 10\n",
    "results_original = []\n",
    "results_llb = []\n",
    "results_ilb = []\n",
    "results_tabu = []\n",
    "results_grasp = []\n",
    "\n",
    "runtimes_original = []\n",
    "runtimes_llb = []\n",
    "runtimes_ilb = []\n",
    "runtimes_tabu = []\n",
    "runtimes_grasp = []\n",
    "\n",
    "for _ in range(N):\n",
    "    random.seed(_)\n",
    "\n",
    "    # Run Lovebird\n",
    "    start = time.time()\n",
    "    _, cost1, _ = lovebird()\n",
    "    end = time.time()\n",
    "    results_original.append(cost1)\n",
    "    runtimes_original.append(end - start)\n",
    "\n",
    "    # Run Localized Lovebird\n",
    "    start = time.time()\n",
    "    _, cost2, _ = localized_lovebird()\n",
    "    end = time.time()\n",
    "    results_llb.append(cost2)\n",
    "    runtimes_llb.append(end - start)\n",
    "\n",
    "    # Run Iterated Lovebird\n",
    "    start = time.time()\n",
    "    _, cost3, _ = iterated_lovebird()\n",
    "    end = time.time()\n",
    "    results_ilb.append(cost3)\n",
    "    runtimes_ilb.append(end - start)\n",
    "\n",
    "    # Run Tabu Search\n",
    "    start = time.time()\n",
    "    _, cost4, _ = hybrid_llb_tabu()\n",
    "    end = time.time()\n",
    "    results_tabu.append(cost4)\n",
    "    runtimes_tabu.append(end - start)\n",
    "\n",
    "    # Run GRASP with Localized Lovebird\n",
    "    start = time.time()\n",
    "    _, cost5, _ = grasp_llb()\n",
    "    end = time.time()\n",
    "    results_grasp.append(cost5)\n",
    "    runtimes_grasp.append(end - start)"
   ]
  },
  {
   "cell_type": "code",
   "execution_count": 44,
   "id": "7291a30a",
   "metadata": {},
   "outputs": [
    {
     "name": "stderr",
     "output_type": "stream",
     "text": [
      "C:\\Users\\Raditya\\AppData\\Local\\Temp\\ipykernel_34384\\3381211288.py:3: MatplotlibDeprecationWarning: The 'labels' parameter of boxplot() has been renamed 'tick_labels' since Matplotlib 3.9; support for the old name will be dropped in 3.11.\n",
      "  plt.boxplot(\n"
     ]
    },
    {
     "data": {
      "image/png": "[encoded data removed]",
      "text/plain": [
       "<Figure size 1000x600 with 1 Axes>"
      ]
     },
     "metadata": {},
     "output_type": "display_data"
    }
   ],
   "source": [
    "# Plot boxplot\n",
    "plt.figure(figsize=(10, 6))\n",
    "plt.boxplot(\n",
    "    [results_original, \n",
    "     results_llb, \n",
    "     results_ilb,\n",
    "     results_tabu,\n",
    "     results_grasp],\n",
    "    labels=[\"Lovebird\", \n",
    "            \"Localized Lovebird\", \n",
    "            \"Iterated Lovebird\",\n",
    "            \"Tabu LLB\",\n",
    "            \"GRASP with LLB\"],\n",
    "    patch_artist=True,\n",
    "    showmeans=True\n",
    ")\n",
    "plt.title(f\"Comparison of TSP Solvers over {N} Runs\")\n",
    "plt.ylabel(\"Final Distance\")\n",
    "plt.grid(axis=\"y\")\n",
    "plt.show()"
   ]
  },
  {
   "cell_type": "code",
   "execution_count": null,
   "id": "796bc5bd",
   "metadata": {},
   "outputs": [],
   "source": [
    "# plt.figure(figsize=(10, 5))\n",
    "# plt.boxplot([runtimes_original, runtimes_llb, runtimes_ilb, results_tabu, results_grasp], labels=[\"Lovebird\", \"Localized Lovebird\", \"Iterated Lovebird\", \"Tabu LLB\", \"GRASP with LLB\"], showmeans=True)\n",
    "# plt.title(\"Runtime Comparison\")\n",
    "# plt.ylabel(\"Seconds\")\n",
    "# plt.grid(True)\n",
    "# plt.show()"
   ]
  },
  {
   "cell_type": "code",
   "execution_count": null,
   "id": "b206ee5d",
   "metadata": {},
   "outputs": [
    {
     "name": "stdout",
     "output_type": "stream",
     "text": [
      "Lovebird   | Min: 10858.00 | Max: 11481.00 | Mean: 11149.40 | Std:  173.11\n",
      "Localized Lovebird | Min: 10872.00 | Max: 11566.00 | Mean: 11143.30 | Std:  201.65\n",
      "Iterated Lovebird | Min: 10648.00 | Max: 11115.00 | Mean: 10818.00 | Std:  140.66\n"
     ]
    }
   ],
   "source": [
    "def print_stats(name, results):\n",
    "    print(f\"{name:<10} | Min: {min(results):>7.2f} | Max: {max(results):>7.2f} | \"\n",
    "          f\"Mean: {np.mean(results):>7.2f} | Std: {np.std(results):>7.2f}\")\n",
    "\n",
    "print_stats(\"Lovebird\", results_original)\n",
    "print_stats(\"Localized Lovebird\", results_llb)\n",
    "print_stats(\"Iterated Lovebird\", results_ilb)\n",
    "\n",
    "# print(\"---------------------------------------------------------\")\n",
    "\n",
    "# print_stats(\"Lovebird\", runtimes_original)\n",
    "# print_stats(\"Localized Lovebird\", runtimes_llb)\n",
    "# print_stats(\"Iterated Lovebird\", runtimes_ilb)"
   ]
  },
  {
   "cell_type": "markdown",
   "id": "ce787f49",
   "metadata": {},
   "source": [
    "<h3>PERSONAL REPORT:</h3>\n",
    "\n",
    "**[Update #1 - Added Local Evaluator in the Lovebird Algorithm]**\n",
    "> Enhanced the hill climbing phase by implementing a local comparator to evaluate and retain only better neighboring routes.\n",
    "- Positive: Results improved significantly in terms of total distance.\n",
    "- Negative: Slight increase in runtime due to evaluation overhead.\n",
    "- Conclusion: Continue with this local evaluation mechanism in future iterations.\n",
    "\n",
    "**[Update #2 - Localizing the Lovebird Algorithm (Population Removed)]**\n",
    "> Transformed the Lovebird Algorithm into a localized version by removing population and focusing on a single solution evolution.\n",
    "- Positive: Achieved better results with less memory usage, and runtime remained efficient even with higher iteration counts.\n",
    "- Negative: Solution quality appears to be more sensitive to the choice of the initial tour.\n",
    "- Conclusion: This version will serve as the local search core in a hybrid structure with a global search mechanism.\n",
    "\n",
    "**[Update #3 - Perturbation via Randomized Mutation (ILS Integration)]**\n",
    "> Integrated the Localized Lovebird into an Iterated Local Search (ILS) framework. Perturbation applied via random mutation operators drawn from the original algorithm to preserve its identity.\n",
    "- Positive: Produced more consistent and improved results across multiple runs.\n",
    "- Negative: Significant increase in runtime (from ~10 seconds to nearly 2 minutes).\n",
    "- Conclusion: Effectiveness proven, but runtime cost needs evaluation or optimization.\n",
    "\n",
    "**[Update #4 - Added Early Stop to the Localized Lovebird Algorithm]**\n",
    "> As a solution for the runtime, early stop is added in the localized version.\n",
    "- Positive: Significantly reduced the runtime for localized (10s to 2s) and hybrid version (2 mins to 1 min).\n",
    "- Negative: Slight increase in result variance in the localized version. In the hybrid version, the variance increase is minimal and acceptable\n",
    "- Conclusion: The early stop mechanism provides a good balance between efficiency and performance. Keep early stop active for future experiments.\n",
    "\n",
    "**[Update #5 - Changed the Iterations from 50 to 30 and Generations from 200 to 300]**\n",
    "> For the sake of shortening the runtime of the Iterating Lovebird Algorithm.\n",
    "- Positive: Significantly reduced the runtime from 1-2 mins to 30 secs.\n",
    "- Negative: Increased the result variance and gave slightly worse results than previous.\n",
    "- Conclusion: Change the approach.\n",
    "\n",
    "**[Update #6 - Major Tweak on Localized and Iterated]**\n",
    "> Change the swap to flip in the localized, making it a bit extreme on the changes but still managable. Added heavy_scramble function for richer and controlled perturbation. Added last touch of local search after the iterations ended.\n",
    "- Positive: Better performance and managed to get extremely close to the ideal solution.\n",
    "- Negative: Slightly increased runtime by 5-7 secs.\n",
    "- Conclusion: Done for now. Time to compare with other standard algorithms.\n",
    "\n",
    "**[Update #7 - Major Tweak on All Algorithms]**\n",
    "> Added two intensive searches and erase max_loop and changed it to \"until improved\" condition in the Lovebird Algorithm. Adapt the same method in the Localized, but still use max_loop to reduce runtime. Change the value of the parameters in the ILB and erased the last local at the end of the iteration.\n",
    "- Positive: \n",
    "- Negative: \n",
    "- Conclusion: "
   ]
  },
  {
   "cell_type": "code",
   "execution_count": null,
   "id": "ffed4e12",
   "metadata": {},
   "outputs": [],
   "source": [
    "# def genetic_algorithm(pop_size=200, generations=1000, mutation_rate=0.1):\n",
    "#     population = [random.sample(nodes, dimension) for _ in range(pop_size)]\n",
    "\n",
    "#     def crossover(p1, p2):\n",
    "#         start, end = sorted(random.sample(range(dimension), 2))\n",
    "#         child = p1[start:end+1]\n",
    "#         child += [c for c in p2 if c not in child]\n",
    "#         return child\n",
    "\n",
    "#     def mutate(route):\n",
    "#         if random.random() < mutation_rate:\n",
    "#             i, j = sorted(random.sample(range(dimension), 2))\n",
    "#             route[i], route[j] = route[j], route[i]\n",
    "#         return route\n",
    "\n",
    "#     best = min(population, key=total_distance)\n",
    "#     history = [total_distance(best)]\n",
    "\n",
    "#     for _ in range(generations):\n",
    "#         new_population = []\n",
    "#         population.sort(key=total_distance)\n",
    "#         elites = population[:pop_size // 2]\n",
    "#         for _ in range(pop_size):\n",
    "#             parents = random.sample(elites, 2)\n",
    "#             child = crossover(parents[0], parents[1])\n",
    "#             child = mutate(child)\n",
    "#             new_population.append(child)\n",
    "#         population = new_population\n",
    "#         current_best = min(population, key=total_distance)\n",
    "#         if total_distance(current_best) < total_distance(best):\n",
    "#             best = current_best\n",
    "#         history.append(total_distance(best))\n",
    "\n",
    "#     return best, total_distance(best), history"
   ]
  },
  {
   "cell_type": "code",
   "execution_count": null,
   "id": "dece1418",
   "metadata": {},
   "outputs": [],
   "source": [
    "# best_solution_ga, best_cost_ga, history_ga = genetic_algorithm()\n",
    "# print(\"Best distance found by GA:\", best_cost_ga)"
   ]
  },
  {
   "cell_type": "code",
   "execution_count": null,
   "id": "b2ec9b05",
   "metadata": {},
   "outputs": [],
   "source": [
    "# plt.plot(history_ga, linestyle='-', color='blue')\n",
    "# plt.title(\"Convergence Curve (GA)\")\n",
    "# plt.xlabel(\"Generation\")\n",
    "# plt.ylabel(\"Best Distance\")\n",
    "# plt.grid(True)\n",
    "# plt.show()"
   ]
  },
  {
   "cell_type": "code",
   "execution_count": null,
   "id": "5e4bb44a",
   "metadata": {},
   "outputs": [],
   "source": [
    "# def simulated_annealing(\n",
    "#     initial_temp=1000,\n",
    "#     min_temp=0.001,\n",
    "#     cooling_rate=0.995\n",
    "# ):\n",
    "#     current = random.sample(nodes, dimension)\n",
    "#     best = current[:]\n",
    "#     best_cost = total_distance(best)\n",
    "#     current_cost = best_cost\n",
    "#     temp = initial_temp\n",
    "#     history = [best_cost]\n",
    "\n",
    "#     while temp > min_temp:\n",
    "#         # Generate neighbor by flipping 2 cities\n",
    "#         i, j = sorted(random.sample(range(dimension), 2))\n",
    "#         candidate = flip(current, i, j)\n",
    "#         candidate_cost = total_distance(candidate)\n",
    "#         delta = candidate_cost - current_cost\n",
    "\n",
    "#         if delta < 0 or random.random() < np.exp(-delta / temp):\n",
    "#             current = candidate\n",
    "#             current_cost = candidate_cost\n",
    "#             if current_cost < best_cost:\n",
    "#                 best = current[:]\n",
    "#                 best_cost = current_cost\n",
    "\n",
    "#         history.append(best_cost)\n",
    "#         temp *= cooling_rate\n",
    "\n",
    "#     return best, best_cost, history"
   ]
  },
  {
   "cell_type": "code",
   "execution_count": null,
   "id": "c3f0403f",
   "metadata": {},
   "outputs": [],
   "source": [
    "# best_solution_sa, best_cost_sa, history_sa = simulated_annealing()\n",
    "# print(\"Best distance found by SA:\", best_cost_sa)"
   ]
  },
  {
   "cell_type": "code",
   "execution_count": null,
   "id": "930464ae",
   "metadata": {},
   "outputs": [],
   "source": [
    "# plt.plot(history_sa, linestyle='-', color='blue')\n",
    "# plt.title(\"Convergence Curve (SA)\")\n",
    "# plt.xlabel(\"Generation\")\n",
    "# plt.ylabel(\"Best Distance\")\n",
    "# plt.grid(True)\n",
    "# plt.show()"
   ]
  },
  {
   "cell_type": "code",
   "execution_count": null,
   "id": "9891d86a",
   "metadata": {},
   "outputs": [],
   "source": [
    "# def ant_colony_optimization(\n",
    "#     n_ants=50, n_best=5, n_iterations=900, decay=0.1, alpha=1, beta=3\n",
    "# ):\n",
    "#     id_to_index = {node: i for i, node in enumerate(nodes)}\n",
    "#     index_to_id = {i: node for i, node in enumerate(nodes)}\n",
    "\n",
    "#     pheromone = np.ones((dimension, dimension))\n",
    "#     distances = np.array([[problem.get_weight(i, j) for j in nodes] for i in nodes])\n",
    "#     visibility = 1 / (distances + np.eye(dimension))  # avoid div by zero\n",
    "#     np.fill_diagonal(visibility, 0)\n",
    "\n",
    "#     best_distance = float('inf')\n",
    "#     best_tour = None\n",
    "#     history = []\n",
    "\n",
    "#     for _ in range(n_iterations):\n",
    "#         all_tours = []\n",
    "#         all_lengths = []\n",
    "\n",
    "#         for _ in range(n_ants):\n",
    "#             tour = []\n",
    "#             unvisited = nodes[:]\n",
    "#             current = random.choice(unvisited)\n",
    "#             tour.append(current)\n",
    "#             unvisited.remove(current)\n",
    "\n",
    "#             while unvisited:\n",
    "#                 current_idx = id_to_index[current]\n",
    "#                 probs = []\n",
    "#                 for j in unvisited:\n",
    "#                     j_idx = id_to_index[j]\n",
    "#                     pher = pheromone[current_idx][j_idx] ** alpha\n",
    "#                     vis = visibility[current_idx][j_idx] ** beta\n",
    "#                     probs.append(pher * vis)\n",
    "#                 probs = np.array(probs)\n",
    "#                 probs /= probs.sum()\n",
    "#                 next_city = random.choices(unvisited, weights=probs)[0]\n",
    "#                 tour.append(next_city)\n",
    "#                 unvisited.remove(next_city)\n",
    "#                 current = next_city\n",
    "\n",
    "#             all_tours.append(tour)\n",
    "#             length = total_distance(tour)\n",
    "#             all_lengths.append(length)\n",
    "\n",
    "#             if length < best_distance:\n",
    "#                 best_distance = length\n",
    "#                 best_tour = tour\n",
    "\n",
    "#         # Update pheromone\n",
    "#         pheromone *= (1 - decay)\n",
    "#         sorted_indices = np.argsort(all_lengths)\n",
    "#         for i in sorted_indices[:n_best]:\n",
    "#             tour = all_tours[i]\n",
    "#             for j in range(dimension - 1):\n",
    "#                 a, b = id_to_index[tour[j]], id_to_index[tour[j+1]]\n",
    "#                 pheromone[a][b] += 1.0 / all_lengths[i]\n",
    "#             # Loop closure\n",
    "#             a, b = id_to_index[tour[-1]], id_to_index[tour[0]]\n",
    "#             pheromone[a][b] += 1.0 / all_lengths[i]\n",
    "\n",
    "#         history.append(best_distance)\n",
    "\n",
    "#     return best_tour, best_distance, history"
   ]
  },
  {
   "cell_type": "code",
   "execution_count": null,
   "id": "45db8ac3",
   "metadata": {},
   "outputs": [],
   "source": [
    "# best_solution_aco, best_cost_aco, history_aco = ant_colony_optimization()\n",
    "# print(\"Best distance found by ACO:\", best_cost_aco)"
   ]
  },
  {
   "cell_type": "code",
   "execution_count": null,
   "id": "5a9721ca",
   "metadata": {},
   "outputs": [],
   "source": [
    "# plt.plot(history_aco, linestyle='-', color='blue')\n",
    "# plt.title(\"Convergence Curve (ACO)\")\n",
    "# plt.xlabel(\"Generation\")\n",
    "# plt.ylabel(\"Best Distance\")\n",
    "# plt.grid(True)\n",
    "# plt.show()"
   ]
  },
  {
   "cell_type": "code",
   "execution_count": null,
   "id": "8044dc8c",
   "metadata": {},
   "outputs": [],
   "source": [
    "# results_ga = []\n",
    "# results_sa = []\n",
    "# results_aco = []\n",
    "\n",
    "# for _ in range(N):\n",
    "#     # Run GA\n",
    "#     _, costga, _ = genetic_algorithm()\n",
    "#     results_ga.append(costga)\n",
    "\n",
    "#     # # Run SA\n",
    "#     _, costsa, _ = simulated_annealing()\n",
    "#     results_sa.append(costsa)\n",
    "\n",
    "#     # Run ACO\n",
    "#     _, costaco, _ = ant_colony_optimization()\n",
    "#     results_aco.append(costaco)\n"
   ]
  },
  {
   "cell_type": "code",
   "execution_count": null,
   "id": "c7035277",
   "metadata": {},
   "outputs": [],
   "source": [
    "# # Plot boxplot\n",
    "# plt.figure(figsize=(10, 6))\n",
    "# plt.boxplot(\n",
    "#     [results_ilb,\n",
    "#      results_ga, \n",
    "#      results_sa,\n",
    "#      results_aco\n",
    "#     ],\n",
    "#     labels=[\"Iterated Lovebird\", \n",
    "#             \"Genetic Algorithm\",\n",
    "#             \"Simulated Annealing\",\n",
    "#             \"Ant Colony Optimization\"\n",
    "#             ],\n",
    "#     showmeans=True\n",
    "# )\n",
    "# plt.title(f\"Comparison of TSP Solvers over {N} Runs\")\n",
    "# plt.ylabel(\"Final Distance\")\n",
    "# plt.grid(axis=\"y\")\n",
    "# plt.show()"
   ]
  },
  {
   "cell_type": "code",
   "execution_count": null,
   "id": "9a748832",
   "metadata": {},
   "outputs": [],
   "source": [
    "# def print_stats(name, results):\n",
    "#     print(f\"{name:<10} | Min: {min(results):>7.2f} | Max: {max(results):>7.2f} | \"\n",
    "#           f\"Mean: {np.mean(results):>7.2f} | Std: {np.std(results):>7.2f}\")\n",
    "\n",
    "# print_stats(\"Iterated Lovebird\", results_ilb)\n",
    "# print_stats(\"Genetic Algorithm\", results_ga)\n",
    "# print_stats(\"Simulated Annealing\", results_sa)\n",
    "# print_stats(\"Ant Colony Optimization\", results_aco)"
   ]
  },
  {
   "cell_type": "code",
   "execution_count": null,
   "id": "65cea7d9",
   "metadata": {},
   "outputs": [],
   "source": [
    "from ortools.constraint_solver import routing_enums_pb2\n",
    "from ortools.constraint_solver import pywrapcp\n",
    "\n",
    "def create_data_model():\n",
    "    matrix = [[problem.get_weight(i, j) for j in nodes] for i in nodes]\n",
    "    return {\n",
    "        'distance_matrix': matrix,\n",
    "        'num_vehicles': 1,\n",
    "        'depot': 0,\n",
    "    }\n",
    "\n",
    "def solve_tsp_with_ortools():\n",
    "    data = create_data_model()\n",
    "\n",
    "    manager = pywrapcp.RoutingIndexManager(\n",
    "        len(data['distance_matrix']),\n",
    "        data['num_vehicles'],\n",
    "        data['depot']\n",
    "    )\n",
    "\n",
    "    routing = pywrapcp.RoutingModel(manager)\n",
    "\n",
    "    def distance_callback(from_index, to_index):\n",
    "        from_node = manager.IndexToNode(from_index)\n",
    "        to_node = manager.IndexToNode(to_index)\n",
    "        return data['distance_matrix'][from_node][to_node]\n",
    "\n",
    "    transit_callback_index = routing.RegisterTransitCallback(distance_callback)\n",
    "\n",
    "    routing.SetArcCostEvaluatorOfAllVehicles(transit_callback_index)\n",
    "\n",
    "    # First solution strategy: GREEDY + LOCAL_SEARCH metaheuristics\n",
    "    search_parameters = pywrapcp.DefaultRoutingSearchParameters()\n",
    "    search_parameters.first_solution_strategy = (\n",
    "        routing_enums_pb2.FirstSolutionStrategy.PATH_CHEAPEST_ARC)\n",
    "    search_parameters.local_search_metaheuristic = (\n",
    "        routing_enums_pb2.LocalSearchMetaheuristic.GUIDED_LOCAL_SEARCH)\n",
    "    search_parameters.time_limit.seconds = 5  # Bisa diubah\n",
    "\n",
    "    # Solve the problem.\n",
    "    solution = routing.SolveWithParameters(search_parameters)\n",
    "\n",
    "    if solution:\n",
    "        index = routing.Start(0)\n",
    "        plan = []\n",
    "        while not routing.IsEnd(index):\n",
    "            plan.append(nodes[manager.IndexToNode(index)])\n",
    "            index = solution.Value(routing.NextVar(index))\n",
    "        plan.append(nodes[manager.IndexToNode(index)])  # return to depot\n",
    "\n",
    "        cost = solution.ObjectiveValue()\n",
    "        return plan, cost\n",
    "    else:\n",
    "        print(\"No solution found!\")\n",
    "        return None, float('inf')"
   ]
  },
  {
   "cell_type": "code",
   "execution_count": null,
   "id": "835bc9b5",
   "metadata": {},
   "outputs": [
    {
     "name": "stdout",
     "output_type": "stream",
     "text": [
      "OR-Tools Best Distance: 10628\n",
      "Route: [1, 8, 38, 31, 44, 18, 7, 28, 6, 37, 19, 27, 17, 43, 30, 36, 46, 33, 20, 47, 21, 32, 39, 48, 5, 42, 24, 10, 45, 35, 4, 26, 2, 29, 34, 41, 16, 22, 3, 23, 14, 25, 13, 11, 12, 15, 40, 9, 1]\n"
     ]
    }
   ],
   "source": [
    "ortools_tour, ortools_cost = solve_tsp_with_ortools()\n",
    "print(\"OR-Tools Best Distance:\", ortools_cost)\n",
    "print(\"Route:\", ortools_tour)"
   ]
  }
 ],
 "metadata": {
  "kernelspec": {
   "display_name": "Python 3",
   "language": "python",
   "name": "python3"
  },
  "language_info": {
   "codemirror_mode": {
    "name": "ipython",
    "version": 3
   },
   "file_extension": ".py",
   "mimetype": "text/x-python",
   "name": "python",
   "nbconvert_exporter": "python",
   "pygments_lexer": "ipython3",
   "version": "3.13.2"
  }
 },
 "nbformat": 4,
 "nbformat_minor": 5
}
